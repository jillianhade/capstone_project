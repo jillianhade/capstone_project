{
 "cells": [
  {
   "cell_type": "code",
   "execution_count": 45,
   "metadata": {
    "collapsed": true
   },
   "outputs": [],
   "source": [
    "# import all the things!\n",
    "# yeah I know I don't need all this, but just incase...\n",
    "\n",
    "import pandas as pd\n",
    "import numpy as np\n",
    "import os\n",
    "%pwd\n",
    "import matplotlib.pyplot as plt\n",
    "%matplotlib inline\n",
    "from sklearn.preprocessing import LabelEncoder\n",
    "from sklearn.cross_validation import cross_val_score, StratifiedKFold\n",
    "from sklearn.tree import DecisionTreeClassifier, DecisionTreeRegressor\n",
    "from sklearn.ensemble import RandomForestClassifier, RandomForestRegressor, ExtraTreesRegressor, ExtraTreesClassifier, BaggingRegressor,BaggingClassifier\n",
    "from sklearn.metrics import classification_report, confusion_matrix\n",
    "from sklearn.ensemble import AdaBoostClassifier, AdaBoostRegressor, GradientBoostingRegressor ,GradientBoostingClassifier\n",
    "from sklearn.externals.six import StringIO\n",
    "from sklearn.tree import export_graphviz\n",
    "import pydot\n",
    "from IPython.display import Image\n",
    "from sklearn.cross_validation import train_test_split\n",
    "from sklearn.grid_search import GridSearchCV\n",
    "from sklearn.feature_extraction.text import TfidfVectorizer\n",
    "from sklearn.decomposition import TruncatedSVD\n",
    "from sklearn.naive_bayes import GaussianNB, BernoulliNB, MultinomialNB\n",
    "from sklearn.preprocessing import StandardScaler\n",
    "from sklearn.metrics import roc_curve, auc"
   ]
  },
  {
   "cell_type": "code",
   "execution_count": 2,
   "metadata": {
    "collapsed": false
   },
   "outputs": [
    {
     "name": "stderr",
     "output_type": "stream",
     "text": [
      "/Users/Driz/anaconda2/lib/python2.7/site-packages/IPython/core/interactiveshell.py:2723: DtypeWarning: Columns (4,5,6,13) have mixed types. Specify dtype option on import or set low_memory=False.\n",
      "  interactivity=interactivity, compiler=compiler, result=result)\n"
     ]
    }
   ],
   "source": [
    "# need to import df csv\n",
    "\n",
    "df = pd.read_csv('gender_included_df.csv', encoding='utf-8')"
   ]
  },
  {
   "cell_type": "code",
   "execution_count": 4,
   "metadata": {
    "collapsed": false
   },
   "outputs": [
    {
     "data": {
      "text/html": [
       "<div>\n",
       "<table border=\"1\" class=\"dataframe\">\n",
       "  <thead>\n",
       "    <tr style=\"text-align: right;\">\n",
       "      <th></th>\n",
       "      <th>id</th>\n",
       "      <th>episode_id</th>\n",
       "      <th>number</th>\n",
       "      <th>raw_text</th>\n",
       "      <th>timestamp_in_ms</th>\n",
       "      <th>speaking_line</th>\n",
       "      <th>character_id</th>\n",
       "      <th>location_id</th>\n",
       "      <th>raw_character_text</th>\n",
       "      <th>raw_location_text</th>\n",
       "      <th>spoken_words</th>\n",
       "      <th>normalized_text</th>\n",
       "      <th>word_count</th>\n",
       "      <th>gender</th>\n",
       "    </tr>\n",
       "  </thead>\n",
       "  <tbody>\n",
       "    <tr>\n",
       "      <th>0</th>\n",
       "      <td>9549</td>\n",
       "      <td>32</td>\n",
       "      <td>209</td>\n",
       "      <td>Miss Hoover: No, actually, it was a little of ...</td>\n",
       "      <td>848000</td>\n",
       "      <td>True</td>\n",
       "      <td>464</td>\n",
       "      <td>3.0</td>\n",
       "      <td>Miss Hoover</td>\n",
       "      <td>Springfield Elementary School</td>\n",
       "      <td>No, actually, it was a little of both. Sometim...</td>\n",
       "      <td>no actually it was a little of both sometimes ...</td>\n",
       "      <td>31.0</td>\n",
       "      <td>f</td>\n",
       "    </tr>\n",
       "    <tr>\n",
       "      <th>1</th>\n",
       "      <td>9550</td>\n",
       "      <td>32</td>\n",
       "      <td>210</td>\n",
       "      <td>Lisa Simpson: (NEAR TEARS) Where's Mr. Bergstrom?</td>\n",
       "      <td>856000</td>\n",
       "      <td>True</td>\n",
       "      <td>9</td>\n",
       "      <td>3.0</td>\n",
       "      <td>Lisa Simpson</td>\n",
       "      <td>Springfield Elementary School</td>\n",
       "      <td>Where's Mr. Bergstrom?</td>\n",
       "      <td>wheres mr bergstrom</td>\n",
       "      <td>3.0</td>\n",
       "      <td>f</td>\n",
       "    </tr>\n",
       "    <tr>\n",
       "      <th>2</th>\n",
       "      <td>9551</td>\n",
       "      <td>32</td>\n",
       "      <td>211</td>\n",
       "      <td>Miss Hoover: I don't know. Although I'd sure l...</td>\n",
       "      <td>856000</td>\n",
       "      <td>True</td>\n",
       "      <td>464</td>\n",
       "      <td>3.0</td>\n",
       "      <td>Miss Hoover</td>\n",
       "      <td>Springfield Elementary School</td>\n",
       "      <td>I don't know. Although I'd sure like to talk t...</td>\n",
       "      <td>i dont know although id sure like to talk to h...</td>\n",
       "      <td>22.0</td>\n",
       "      <td>f</td>\n",
       "    </tr>\n",
       "  </tbody>\n",
       "</table>\n",
       "</div>"
      ],
      "text/plain": [
       "     id  episode_id  number  \\\n",
       "0  9549          32     209   \n",
       "1  9550          32     210   \n",
       "2  9551          32     211   \n",
       "\n",
       "                                            raw_text timestamp_in_ms  \\\n",
       "0  Miss Hoover: No, actually, it was a little of ...          848000   \n",
       "1  Lisa Simpson: (NEAR TEARS) Where's Mr. Bergstrom?          856000   \n",
       "2  Miss Hoover: I don't know. Although I'd sure l...          856000   \n",
       "\n",
       "  speaking_line character_id  location_id raw_character_text  \\\n",
       "0          True          464          3.0        Miss Hoover   \n",
       "1          True            9          3.0       Lisa Simpson   \n",
       "2          True          464          3.0        Miss Hoover   \n",
       "\n",
       "               raw_location_text  \\\n",
       "0  Springfield Elementary School   \n",
       "1  Springfield Elementary School   \n",
       "2  Springfield Elementary School   \n",
       "\n",
       "                                        spoken_words  \\\n",
       "0  No, actually, it was a little of both. Sometim...   \n",
       "1                             Where's Mr. Bergstrom?   \n",
       "2  I don't know. Although I'd sure like to talk t...   \n",
       "\n",
       "                                     normalized_text  word_count gender  \n",
       "0  no actually it was a little of both sometimes ...        31.0      f  \n",
       "1                                wheres mr bergstrom         3.0      f  \n",
       "2  i dont know although id sure like to talk to h...        22.0      f  "
      ]
     },
     "execution_count": 4,
     "metadata": {},
     "output_type": "execute_result"
    }
   ],
   "source": [
    "df.head(3)"
   ]
  },
  {
   "cell_type": "code",
   "execution_count": 5,
   "metadata": {
    "collapsed": true
   },
   "outputs": [],
   "source": [
    "# create new df reducing to column for further preprocessing and my y-column\n",
    "# now here I may want to make another df and include 'location_id', 'word_count' \n",
    "# I feel 'word_count' may be a huge impact (female characters have lower count than male--EDA)\n",
    "\n",
    "df_reduced = df.copy()[['normalized_text','gender']]\n",
    "\n",
    "df_expanded = df.copy()[['location_id', 'word_count', 'normalized_text', 'gender']]"
   ]
  },
  {
   "cell_type": "code",
   "execution_count": 6,
   "metadata": {
    "collapsed": false
   },
   "outputs": [
    {
     "data": {
      "text/html": [
       "<div>\n",
       "<table border=\"1\" class=\"dataframe\">\n",
       "  <thead>\n",
       "    <tr style=\"text-align: right;\">\n",
       "      <th></th>\n",
       "      <th>normalized_text</th>\n",
       "      <th>gender</th>\n",
       "    </tr>\n",
       "  </thead>\n",
       "  <tbody>\n",
       "    <tr>\n",
       "      <th>0</th>\n",
       "      <td>no actually it was a little of both sometimes ...</td>\n",
       "      <td>f</td>\n",
       "    </tr>\n",
       "    <tr>\n",
       "      <th>1</th>\n",
       "      <td>wheres mr bergstrom</td>\n",
       "      <td>f</td>\n",
       "    </tr>\n",
       "    <tr>\n",
       "      <th>2</th>\n",
       "      <td>i dont know although id sure like to talk to h...</td>\n",
       "      <td>f</td>\n",
       "    </tr>\n",
       "    <tr>\n",
       "      <th>3</th>\n",
       "      <td>that life is worth living</td>\n",
       "      <td>f</td>\n",
       "    </tr>\n",
       "    <tr>\n",
       "      <th>4</th>\n",
       "      <td>the polls will be open from now until the end ...</td>\n",
       "      <td>f</td>\n",
       "    </tr>\n",
       "  </tbody>\n",
       "</table>\n",
       "</div>"
      ],
      "text/plain": [
       "                                     normalized_text gender\n",
       "0  no actually it was a little of both sometimes ...      f\n",
       "1                                wheres mr bergstrom      f\n",
       "2  i dont know although id sure like to talk to h...      f\n",
       "3                          that life is worth living      f\n",
       "4  the polls will be open from now until the end ...      f"
      ]
     },
     "execution_count": 6,
     "metadata": {},
     "output_type": "execute_result"
    }
   ],
   "source": [
    "df_reduced.dropna(inplace=True)\n",
    "df_reduced.head()"
   ]
  },
  {
   "cell_type": "code",
   "execution_count": 7,
   "metadata": {
    "collapsed": false
   },
   "outputs": [
    {
     "data": {
      "text/html": [
       "<div>\n",
       "<table border=\"1\" class=\"dataframe\">\n",
       "  <thead>\n",
       "    <tr style=\"text-align: right;\">\n",
       "      <th></th>\n",
       "      <th>location_id</th>\n",
       "      <th>word_count</th>\n",
       "      <th>normalized_text</th>\n",
       "      <th>gender</th>\n",
       "    </tr>\n",
       "  </thead>\n",
       "  <tbody>\n",
       "    <tr>\n",
       "      <th>0</th>\n",
       "      <td>3.0</td>\n",
       "      <td>31.0</td>\n",
       "      <td>no actually it was a little of both sometimes ...</td>\n",
       "      <td>f</td>\n",
       "    </tr>\n",
       "    <tr>\n",
       "      <th>1</th>\n",
       "      <td>3.0</td>\n",
       "      <td>3.0</td>\n",
       "      <td>wheres mr bergstrom</td>\n",
       "      <td>f</td>\n",
       "    </tr>\n",
       "    <tr>\n",
       "      <th>2</th>\n",
       "      <td>3.0</td>\n",
       "      <td>22.0</td>\n",
       "      <td>i dont know although id sure like to talk to h...</td>\n",
       "      <td>f</td>\n",
       "    </tr>\n",
       "    <tr>\n",
       "      <th>3</th>\n",
       "      <td>3.0</td>\n",
       "      <td>5.0</td>\n",
       "      <td>that life is worth living</td>\n",
       "      <td>f</td>\n",
       "    </tr>\n",
       "    <tr>\n",
       "      <th>4</th>\n",
       "      <td>3.0</td>\n",
       "      <td>33.0</td>\n",
       "      <td>the polls will be open from now until the end ...</td>\n",
       "      <td>f</td>\n",
       "    </tr>\n",
       "  </tbody>\n",
       "</table>\n",
       "</div>"
      ],
      "text/plain": [
       "   location_id  word_count                                    normalized_text  \\\n",
       "0          3.0        31.0  no actually it was a little of both sometimes ...   \n",
       "1          3.0         3.0                                wheres mr bergstrom   \n",
       "2          3.0        22.0  i dont know although id sure like to talk to h...   \n",
       "3          3.0         5.0                          that life is worth living   \n",
       "4          3.0        33.0  the polls will be open from now until the end ...   \n",
       "\n",
       "  gender  \n",
       "0      f  \n",
       "1      f  \n",
       "2      f  \n",
       "3      f  \n",
       "4      f  "
      ]
     },
     "execution_count": 7,
     "metadata": {},
     "output_type": "execute_result"
    }
   ],
   "source": [
    "df_expanded.dropna(inplace=True)\n",
    "df_expanded.head()"
   ]
  },
  {
   "cell_type": "code",
   "execution_count": 12,
   "metadata": {
    "collapsed": false
   },
   "outputs": [
    {
     "data": {
      "text/plain": [
       "92692"
      ]
     },
     "execution_count": 12,
     "metadata": {},
     "output_type": "execute_result"
    }
   ],
   "source": [
    "len(df_reduced)"
   ]
  },
  {
   "cell_type": "code",
   "execution_count": 8,
   "metadata": {
    "collapsed": false
   },
   "outputs": [
    {
     "data": {
      "text/plain": [
       "m    68650\n",
       "f    24042\n",
       "Name: gender, dtype: int64"
      ]
     },
     "execution_count": 8,
     "metadata": {},
     "output_type": "execute_result"
    }
   ],
   "source": [
    "df_reduced['gender'].value_counts()"
   ]
  },
  {
   "cell_type": "code",
   "execution_count": 11,
   "metadata": {
    "collapsed": false
   },
   "outputs": [
    {
     "data": {
      "text/plain": [
       "0.25937513485521946"
      ]
     },
     "execution_count": 11,
     "metadata": {},
     "output_type": "execute_result"
    }
   ],
   "source": [
    "# get baseline no. of female / no. of total rows\n",
    "\n",
    "np.mean(df_reduced['gender'] == 'f')"
   ]
  },
  {
   "cell_type": "code",
   "execution_count": 13,
   "metadata": {
    "collapsed": false
   },
   "outputs": [
    {
     "data": {
      "text/plain": [
       "m    68435\n",
       "f    24003\n",
       "Name: gender, dtype: int64"
      ]
     },
     "execution_count": 13,
     "metadata": {},
     "output_type": "execute_result"
    }
   ],
   "source": [
    "df_expanded['gender'].value_counts()"
   ]
  },
  {
   "cell_type": "code",
   "execution_count": 14,
   "metadata": {
    "collapsed": false
   },
   "outputs": [
    {
     "data": {
      "text/plain": [
       "0.25966593825050305"
      ]
     },
     "execution_count": 14,
     "metadata": {},
     "output_type": "execute_result"
    }
   ],
   "source": [
    "# get baseline no. of female / no. of total rows\n",
    "\n",
    "np.mean(df_expanded['gender'] == 'f')"
   ]
  },
  {
   "cell_type": "code",
   "execution_count": 20,
   "metadata": {
    "collapsed": true
   },
   "outputs": [],
   "source": [
    "# need to pull out dependent variable (y)\n",
    "\n",
    "y = LabelEncoder().fit_transform(df_reduced['gender'].values)"
   ]
  },
  {
   "cell_type": "code",
   "execution_count": 21,
   "metadata": {
    "collapsed": true
   },
   "outputs": [],
   "source": [
    "# need to pull out dependent variable (y)\n",
    "\n",
    "y_ex = LabelEncoder().fit_transform(df_expanded['gender'].values)"
   ]
  },
  {
   "cell_type": "code",
   "execution_count": 22,
   "metadata": {
    "collapsed": false
   },
   "outputs": [],
   "source": [
    "# set up train test split\n",
    "# do on reduced first then go back to expanded if time\n",
    "\n",
    "x_train, x_test, y_train, y_test = train_test_split(df_reduced, y)"
   ]
  },
  {
   "cell_type": "code",
   "execution_count": 23,
   "metadata": {
    "collapsed": false
   },
   "outputs": [
    {
     "name": "stdout",
     "output_type": "stream",
     "text": [
      "(69519, 2)\n",
      "(23173, 2)\n",
      "(69519,)\n",
      "(23173,)\n"
     ]
    }
   ],
   "source": [
    "# check shape of train test split\n",
    "\n",
    "print x_train.shape\n",
    "print x_test.shape\n",
    "print y_train.shape\n",
    "print y_test.shape"
   ]
  },
  {
   "cell_type": "code",
   "execution_count": 39,
   "metadata": {
    "collapsed": false
   },
   "outputs": [],
   "source": [
    "# need to run train test split through tfidf to fit data and then transform it and transform test data off of learned train data\n",
    "\n",
    "# picked ngram=1,3 just cause I like that option and it seems to produce well\n",
    "tfidf = TfidfVectorizer(stop_words='english',\n",
    "                       ngram_range=(1,3))\n",
    "# based off of explained variance ratio graph in hyperparam notebook\n",
    "tsvd = TruncatedSVD(n_components=700)\n",
    "\n",
    "\n",
    "tfidf.fit(x_train.normalized_text.values)\n",
    "transformed = tfidf.transform(x_train.normalized_text.values)\n",
    "\n",
    "\n",
    "tsvd.fit(transformed)\n",
    "x_train_transformed = tsvd.transform(transformed)\n",
    "\n",
    "# x_test_transformed = tfidf.transform(x_test.normalized_text.values)\n",
    "# x_test_transformed = tsvd.transform(x_test_transformed)"
   ]
  },
  {
   "cell_type": "code",
   "execution_count": 85,
   "metadata": {
    "collapsed": false
   },
   "outputs": [
    {
     "name": "stdout",
     "output_type": "stream",
     "text": [
      "\n"
     ]
    }
   ],
   "source": [
    "# had to do this to run naive bayes all the way at the bottom\n",
    "\n",
    "x_test_transformed = tfidf.transform(x_test.normalized_text.values)\n",
    "# x_test_transformed = tsvd.transform(x_test_transformed)"
   ]
  },
  {
   "cell_type": "code",
   "execution_count": 40,
   "metadata": {
    "collapsed": false
   },
   "outputs": [
    {
     "name": "stdout",
     "output_type": "stream",
     "text": [
      "(69519, 700)\n",
      "(23173, 700)\n",
      "(69519,)\n",
      "(23173,)\n"
     ]
    }
   ],
   "source": [
    "print x_train_transformed.shape\n",
    "print x_test_transformed.shape\n",
    "print y_train.shape\n",
    "print y_test.shape"
   ]
  },
  {
   "cell_type": "code",
   "execution_count": 41,
   "metadata": {
    "collapsed": false
   },
   "outputs": [
    {
     "data": {
      "text/plain": [
       "0.7473784145341561"
      ]
     },
     "execution_count": 41,
     "metadata": {},
     "output_type": "execute_result"
    }
   ],
   "source": [
    "# random forest params came from a stalled GridSearchCV in hyperparam notebook\n",
    "rf = RandomForestClassifier(max_features=0.75, max_leaf_nodes=10,\n",
    "                            max_depth=20, n_jobs=-1)\n",
    "rf.fit(x_train_transformed, y_train)\n",
    "predictions = rf.predict(x_test_transformed)\n",
    "rf.score(x_test_transformed, y_test)"
   ]
  },
  {
   "cell_type": "code",
   "execution_count": 42,
   "metadata": {
    "collapsed": false
   },
   "outputs": [
    {
     "data": {
      "text/html": [
       "<div>\n",
       "<table border=\"1\" class=\"dataframe\">\n",
       "  <thead>\n",
       "    <tr style=\"text-align: right;\">\n",
       "      <th></th>\n",
       "      <th>predicted_f</th>\n",
       "      <th>predicted_m</th>\n",
       "    </tr>\n",
       "  </thead>\n",
       "  <tbody>\n",
       "    <tr>\n",
       "      <th>is_f</th>\n",
       "      <td>478</td>\n",
       "      <td>5555</td>\n",
       "    </tr>\n",
       "    <tr>\n",
       "      <th>is_m</th>\n",
       "      <td>299</td>\n",
       "      <td>16841</td>\n",
       "    </tr>\n",
       "  </tbody>\n",
       "</table>\n",
       "</div>"
      ],
      "text/plain": [
       "      predicted_f  predicted_m\n",
       "is_f          478         5555\n",
       "is_m          299        16841"
      ]
     },
     "execution_count": 42,
     "metadata": {},
     "output_type": "execute_result"
    }
   ],
   "source": [
    "confusion = pd.DataFrame(confusion_matrix(y_test, predictions), columns=['predicted_f', 'predicted_m'], index=['is_f', 'is_m'])\n",
    "confusion"
   ]
  },
  {
   "cell_type": "code",
   "execution_count": 43,
   "metadata": {
    "collapsed": false
   },
   "outputs": [
    {
     "name": "stdout",
     "output_type": "stream",
     "text": [
      "Classification Report:\n",
      "             precision    recall  f1-score   support\n",
      "\n",
      "          0       0.62      0.08      0.14      6033\n",
      "          1       0.75      0.98      0.85     17140\n",
      "\n",
      "avg / total       0.72      0.75      0.67     23173\n",
      "\n"
     ]
    }
   ],
   "source": [
    "print \"Classification Report:\\n\", classification_report(y_test, predictions)"
   ]
  },
  {
   "cell_type": "code",
   "execution_count": 63,
   "metadata": {
    "collapsed": false
   },
   "outputs": [
    {
     "name": "stdout",
     "output_type": "stream",
     "text": [
      "ROC AUC: 0.60\n"
     ]
    },
    {
     "data": {
      "image/png": "[encoded data removed]",
      "text/plain": [
       "<matplotlib.figure.Figure at 0x1175a4810>"
      ]
     },
     "metadata": {},
     "output_type": "display_data"
    }
   ],
   "source": [
    "## plots ROC curve\n",
    "def plot_roc(x_test_transformed, y_test, model):\n",
    "    fpr, tpr, _ = roc_curve(y_test, model.predict_proba(x_test_transformed)[:,1])\n",
    "    roc_auc = auc(fpr, tpr)\n",
    "    print 'ROC AUC: %0.2f' % roc_auc\n",
    "    plt.figure()\n",
    "    plt.plot(fpr, tpr, label='ROC curve (area = %0.2f)' % roc_auc)\n",
    "    plt.plot([0, 1], [0, 1], 'k--')\n",
    "    plt.xlim([0.0, 1.0])\n",
    "    plt.ylim([0.0, 1.05])\n",
    "    plt.xlabel('False Positive Rate')\n",
    "    plt.ylabel('True Positive Rate')\n",
    "    plt.title('ROC Curve')\n",
    "    plt.legend(loc=\"lower right\")\n",
    "    plt.show()\n",
    "    \n",
    "plot_roc(x_test_transformed, y_test, rf)    "
   ]
  },
  {
   "cell_type": "code",
   "execution_count": 47,
   "metadata": {
    "collapsed": false
   },
   "outputs": [
    {
     "data": {
      "image/png": "[encoded data removed]",
      "text/plain": [
       "<matplotlib.figure.Figure at 0x122c61d10>"
      ]
     },
     "metadata": {},
     "output_type": "display_data"
    }
   ],
   "source": [
    "# taking a look at predictions to visualize where to alter probability cutoff\n",
    "\n",
    "predict = rf.predict_proba(x_test_transformed)\n",
    "\n",
    "plt.hist(predict[:,1], bins=40);"
   ]
  },
  {
   "cell_type": "code",
   "execution_count": 48,
   "metadata": {
    "collapsed": false
   },
   "outputs": [
    {
     "data": {
      "image/png": "[encoded data removed]",
      "text/plain": [
       "<matplotlib.figure.Figure at 0x11d6b7290>"
      ]
     },
     "metadata": {},
     "output_type": "display_data"
    }
   ],
   "source": [
    "## plots the distribution of prediction probabilities for the 1 class\n",
    "def plot_proba(x_test, model):\n",
    "    predict = model.predict_proba(x_test)\n",
    "    plt.hist(predict[:,1])\n",
    "    plt.ylabel('Frequency')\n",
    "    plt.xlabel('Class 1 Probability Cutoff')\n",
    "    plt.show()\n",
    "    \n",
    "plot_proba(x_test_transformed, rf)"
   ]
  },
  {
   "cell_type": "code",
   "execution_count": 49,
   "metadata": {
    "collapsed": true
   },
   "outputs": [],
   "source": [
    "## calculates new scores based on inputed probability, then plots new model scores based on the range of cutoffs\n",
    "\n",
    "def get_predictions(model, x_test, y_test, probability):\n",
    "    predict = model.predict_proba(x_test)\n",
    "    new_predictions = []\n",
    "    for i in predict:\n",
    "        if i[1] >= probability:\n",
    "            new_predictions.append(1)\n",
    "        else:\n",
    "            new_predictions.append(0)\n",
    "    return new_predictions\n",
    "    \n",
    "def find_optimal_probability(model, x_test, y_test):\n",
    "    probabilities = range(1,101)\n",
    "    new_probabilities = []\n",
    "    for i in probabilities:\n",
    "        new_probabilities.append(float(i)/100)\n",
    "    range_of_scores = []\n",
    "    for i in new_probabilities:\n",
    "        new_preds = get_predictions(model, x_test, y_test, i)\n",
    "        cmatrix = confusion_matrix(y_test, new_preds)\n",
    "        new_model_score = (cmatrix[0,0] + cmatrix[1,1])/float(np.sum(cmatrix))\n",
    "        range_of_scores.append(new_model_score)\n",
    "    plt.plot(new_probabilities, range_of_scores)\n",
    "    plt.xlabel(\"Probability Cutoff\")\n",
    "    plt.ylabel(\"Model Score\")\n",
    "    plt.show()"
   ]
  },
  {
   "cell_type": "code",
   "execution_count": 53,
   "metadata": {
    "collapsed": false
   },
   "outputs": [
    {
     "data": {
      "image/png": "[encoded data removed]",
      "text/plain": [
       "<matplotlib.figure.Figure at 0x118a4dad0>"
      ]
     },
     "metadata": {},
     "output_type": "display_data"
    }
   ],
   "source": [
    "# need to change probability .75\n",
    "\n",
    "get_predictions(rf, x_test_transformed, y_test, .75)\n",
    "find_optimal_probability(rf, x_test_transformed, y_test)"
   ]
  },
  {
   "cell_type": "code",
   "execution_count": 54,
   "metadata": {
    "collapsed": false
   },
   "outputs": [
    {
     "name": "stdout",
     "output_type": "stream",
     "text": [
      "Confusion Matrix:\n",
      "           predicted_female  predicted_male\n",
      "is_female              2815            3218\n",
      "is_male                5770           11370\n",
      "\n",
      "Classification Report:\n",
      "             precision    recall  f1-score   support\n",
      "\n",
      "          0       0.33      0.47      0.39      6033\n",
      "          1       0.78      0.66      0.72     17140\n",
      "\n",
      "avg / total       0.66      0.61      0.63     23173\n",
      "\n"
     ]
    },
    {
     "data": {
      "image/png": "[encoded data removed]",
      "text/plain": [
       "<matplotlib.figure.Figure at 0x118a20850>"
      ]
     },
     "metadata": {},
     "output_type": "display_data"
    }
   ],
   "source": [
    "def tune_predictions(model, x_test, y_test, probability):\n",
    "    predict = model.predict_proba(x_test)\n",
    "    new_predictions = []\n",
    "    for i in predict:\n",
    "        if i[1] >= probability:\n",
    "            new_predictions.append(1)\n",
    "        else:\n",
    "            new_predictions.append(0)\n",
    "    print \"Confusion Matrix:\\n\", pd.DataFrame(confusion_matrix(y_test, new_predictions), \n",
    "                                              columns=['predicted_female', 'predicted_male'], index=['is_female', 'is_male'])\n",
    "    print \"\\nClassification Report:\\n\", classification_report(y_test, new_predictions)\n",
    "    plt.hist(new_predictions)\n",
    "    plt.xlabel('New Predictions')\n",
    "    plt.ylabel('Frequency')\n",
    "    plt.title('Distribution of New Predictions')\n",
    "    plt.show()\n",
    "\n",
    "#minimizing one source of error to maximize some other    \n",
    "tune_predictions(rf, x_test_transformed, y_test, .75)"
   ]
  },
  {
   "cell_type": "code",
   "execution_count": 66,
   "metadata": {
    "collapsed": true
   },
   "outputs": [],
   "source": [
    "## runs training and test set, prints classification report and confusion matrix\n",
    "\n",
    "def run_model(x_train_transformed, y_train, x_test_transformed, y_test, model):\n",
    "    model.fit(x_train_transformed, y_train)\n",
    "    print \"Training set score: \", model.score(x_train_transformed, y_train)\n",
    "    print \"Test set score: \", model.score(x_test_transformed, y_test)\n",
    "    predictions = model.predict(x_test_transformed)\n",
    "    print \"\\nConfusion Matrix:\\n\", confusion_matrix(y_test, predictions), \"\\n\"\n",
    "    print \"Classification Report:\\n\",classification_report(y_test, predictions)"
   ]
  },
  {
   "cell_type": "code",
   "execution_count": 67,
   "metadata": {
    "collapsed": false
   },
   "outputs": [
    {
     "name": "stdout",
     "output_type": "stream",
     "text": [
      "Training set score:  0.752211625599\n",
      "Test set score:  0.747335260864\n",
      "\n",
      "Confusion Matrix:\n",
      "[[  837  5196]\n",
      " [  659 16481]] \n",
      "\n",
      "Classification Report:\n",
      "             precision    recall  f1-score   support\n",
      "\n",
      "          0       0.56      0.14      0.22      6033\n",
      "          1       0.76      0.96      0.85     17140\n",
      "\n",
      "avg / total       0.71      0.75      0.69     23173\n",
      "\n"
     ]
    }
   ],
   "source": [
    "ada_model = AdaBoostClassifier()\n",
    "\n",
    "run_model(x_train_transformed, y_train, x_test_transformed, y_test, ada_model)"
   ]
  },
  {
   "cell_type": "code",
   "execution_count": 70,
   "metadata": {
    "collapsed": false
   },
   "outputs": [
    {
     "data": {
      "image/png": "[encoded data removed]",
      "text/plain": [
       "<matplotlib.figure.Figure at 0x11fc4b450>"
      ]
     },
     "metadata": {},
     "output_type": "display_data"
    }
   ],
   "source": [
    "get_predictions(ada_model, x_test_transformed, y_test, .75)\n",
    "find_optimal_probability(ada_model, x_test_transformed, y_test)"
   ]
  },
  {
   "cell_type": "code",
   "execution_count": 75,
   "metadata": {
    "collapsed": false
   },
   "outputs": [
    {
     "name": "stdout",
     "output_type": "stream",
     "text": [
      "Confusion Matrix:\n",
      "           predicted_female  predicted_male\n",
      "is_female               837            5196\n",
      "is_male                 659           16481\n",
      "\n",
      "Classification Report:\n",
      "             precision    recall  f1-score   support\n",
      "\n",
      "          0       0.56      0.14      0.22      6033\n",
      "          1       0.76      0.96      0.85     17140\n",
      "\n",
      "avg / total       0.71      0.75      0.69     23173\n",
      "\n"
     ]
    },
    {
     "data": {
      "image/png": "[encoded data removed]",
      "text/plain": [
       "<matplotlib.figure.Figure at 0x120b35190>"
      ]
     },
     "metadata": {},
     "output_type": "display_data"
    }
   ],
   "source": [
    "#minimizing one source of error to maximize some other    \n",
    "tune_predictions(ada_model, x_test_transformed, y_test, .5)"
   ]
  },
  {
   "cell_type": "code",
   "execution_count": 79,
   "metadata": {
    "collapsed": false
   },
   "outputs": [],
   "source": [
    "# need to standardize data, make new array\n",
    "# scaler = StandardScaler().fit_transform(tfidf2)\n",
    "\n",
    "bayes_array = StandardScaler(with_mean=False).fit_transform(transformed)"
   ]
  },
  {
   "cell_type": "code",
   "execution_count": 86,
   "metadata": {
    "collapsed": false
   },
   "outputs": [
    {
     "name": "stdout",
     "output_type": "stream",
     "text": [
      "Training set score:  0.759677210547\n",
      "Test set score:  0.743063047512\n",
      "\n",
      "Confusion Matrix:\n",
      "[[   83  5950]\n",
      " [    4 17136]] \n",
      "\n",
      "Classification Report:\n",
      "             precision    recall  f1-score   support\n",
      "\n",
      "          0       0.95      0.01      0.03      6033\n",
      "          1       0.74      1.00      0.85     17140\n",
      "\n",
      "avg / total       0.80      0.74      0.64     23173\n",
      "\n"
     ]
    }
   ],
   "source": [
    "# look into bayes hyper params\n",
    "# does not need to be trunkated \n",
    "\n",
    "bayes_model = MultinomialNB()\n",
    "\n",
    "run_model(transformed, y_train, x_test_transformed, y_test, bayes_model)"
   ]
  },
  {
   "cell_type": "code",
   "execution_count": 90,
   "metadata": {
    "collapsed": false
   },
   "outputs": [
    {
     "ename": "TypeError",
     "evalue": "object() takes no parameters",
     "output_type": "error",
     "traceback": [
      "\u001b[0;31m---------------------------------------------------------------------------\u001b[0m",
      "\u001b[0;31mTypeError\u001b[0m                                 Traceback (most recent call last)",
      "\u001b[0;32m<ipython-input-90-8070cd1dd59c>\u001b[0m in \u001b[0;36m<module>\u001b[0;34m()\u001b[0m\n\u001b[0;32m----> 1\u001b[0;31m \u001b[0mbayes_Gaussian\u001b[0m \u001b[0;34m=\u001b[0m \u001b[0mGaussianNB\u001b[0m\u001b[0;34m(\u001b[0m\u001b[0mtransformed\u001b[0m\u001b[0;34m.\u001b[0m\u001b[0mtoarray\u001b[0m\u001b[0;34m(\u001b[0m\u001b[0;34m)\u001b[0m\u001b[0;34m)\u001b[0m\u001b[0;34m\u001b[0m\u001b[0m\n\u001b[0m\u001b[1;32m      2\u001b[0m \u001b[0;34m\u001b[0m\u001b[0m\n\u001b[1;32m      3\u001b[0m \u001b[0mrun_model\u001b[0m\u001b[0;34m(\u001b[0m\u001b[0mtransformed\u001b[0m\u001b[0;34m,\u001b[0m \u001b[0my_train\u001b[0m\u001b[0;34m,\u001b[0m \u001b[0mx_test_transformed\u001b[0m\u001b[0;34m,\u001b[0m \u001b[0my_test\u001b[0m\u001b[0;34m,\u001b[0m \u001b[0mbayes_Gaussian\u001b[0m\u001b[0;34m)\u001b[0m\u001b[0;34m\u001b[0m\u001b[0m\n",
      "\u001b[0;31mTypeError\u001b[0m: object() takes no parameters"
     ]
    }
   ],
   "source": [
    "bayes_Gaussian = GaussianNB(transformed.toarray())\n",
    "\n",
    "run_model(transformed, y_train, x_test_transformed, y_test, bayes_Gaussian)"
   ]
  },
  {
   "cell_type": "code",
   "execution_count": null,
   "metadata": {
    "collapsed": true
   },
   "outputs": [],
   "source": []
  },
  {
   "cell_type": "code",
   "execution_count": null,
   "metadata": {
    "collapsed": true
   },
   "outputs": [],
   "source": []
  },
  {
   "cell_type": "code",
   "execution_count": null,
   "metadata": {
    "collapsed": true
   },
   "outputs": [],
   "source": []
  },
  {
   "cell_type": "code",
   "execution_count": null,
   "metadata": {
    "collapsed": true
   },
   "outputs": [],
   "source": []
  }
 ],
 "metadata": {
  "kernelspec": {
   "display_name": "Python [Root]",
   "language": "python",
   "name": "Python [Root]"
  },
  "language_info": {
   "codemirror_mode": {
    "name": "ipython",
    "version": 2
   },
   "file_extension": ".py",
   "mimetype": "text/x-python",
   "name": "python",
   "nbconvert_exporter": "python",
   "pygments_lexer": "ipython2",
   "version": "2.7.12"
  }
 },
 "nbformat": 4,
 "nbformat_minor": 0
}

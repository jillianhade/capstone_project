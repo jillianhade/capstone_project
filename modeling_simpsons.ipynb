{
 "cells": [
  {
   "cell_type": "code",
   "execution_count": null,
   "metadata": {
    "collapsed": true
   },
   "outputs": [],
   "source": [
    "# import all the things!\n",
    "# yeah I know I don't need all this, but just incase...\n",
    "\n",
    "import pandas as pd\n",
    "import numpy as np\n",
    "import os\n",
    "%pwd\n",
    "import matplotlib.pyplot as plt\n",
    "%matplotlib inline\n",
    "from sklearn.preprocessing import LabelEncoder\n",
    "from sklearn.cross_validation import cross_val_score, StratifiedKFold\n",
    "from sklearn.tree import DecisionTreeClassifier, DecisionTreeRegressor\n",
    "from sklearn.ensemble import RandomForestClassifier, RandomForestRegressor, ExtraTreesRegressor, ExtraTreesClassifier, BaggingRegressor,BaggingClassifier\n",
    "from sklearn.metrics import classification_report, confusion_matrix\n",
    "from sklearn.ensemble import AdaBoostClassifier, AdaBoostRegressor, GradientBoostingRegressor ,GradientBoostingClassifier\n",
    "from sklearn.externals.six import StringIO\n",
    "from sklearn.tree import export_graphviz\n",
    "import pydot\n",
    "from IPython.display import Image\n",
    "from sklearn.cross_validation import train_test_split\n",
    "from sklearn.grid_search import GridSearchCV\n",
    "from sklearn.feature_extraction.text import TfidfVectorizer\n",
    "from sklearn.decomposition import TruncatedSVD\n",
    "from sklearn.naive_bayes import GaussianNB, BernoulliNB, MultinomialNB\n",
    "from sklearn.preprocessing import StandardScaler"
   ]
  },
  {
   "cell_type": "code",
   "execution_count": null,
   "metadata": {
    "collapsed": true
   },
   "outputs": [],
   "source": [
    "# need to import df csv\n",
    "\n",
    "df = pd.read_csv('gender_included_df.csv', encoding='utf-8')"
   ]
  },
  {
   "cell_type": "code",
   "execution_count": null,
   "metadata": {
    "collapsed": true
   },
   "outputs": [],
   "source": [
    "df.head()"
   ]
  },
  {
   "cell_type": "code",
   "execution_count": null,
   "metadata": {
    "collapsed": true
   },
   "outputs": [],
   "source": [
    "# create new df reducing to column for further preprocessing and my y-column\n",
    "# now here I may want to make another df and include 'location_id', 'word_count' \n",
    "# I feel 'word_count' may be a huge impact (female characters have lower count than male--EDA)\n",
    "\n",
    "df_reduced = df.copy()[['normalized_text','gender']]\n",
    "\n",
    "df_expanded = df.copy()[['location_id', 'word_count', 'normalized_text', 'gender']]"
   ]
  },
  {
   "cell_type": "code",
   "execution_count": null,
   "metadata": {
    "collapsed": true
   },
   "outputs": [],
   "source": [
    "df_reduced.dropna(inplace=True)\n",
    "df_reduced.head()"
   ]
  },
  {
   "cell_type": "code",
   "execution_count": null,
   "metadata": {
    "collapsed": true
   },
   "outputs": [],
   "source": [
    "df_expanded.dropna(inplace=True)\n",
    "df_expanded.head()"
   ]
  },
  {
   "cell_type": "code",
   "execution_count": null,
   "metadata": {
    "collapsed": true
   },
   "outputs": [],
   "source": [
    "df_reduced['gender'].value_counts()"
   ]
  },
  {
   "cell_type": "code",
   "execution_count": null,
   "metadata": {
    "collapsed": true
   },
   "outputs": [],
   "source": [
    "# get baseline no. of female / no. of total rows\n",
    "\n",
    "np.mean(df_reduced['gender'])"
   ]
  },
  {
   "cell_type": "code",
   "execution_count": null,
   "metadata": {
    "collapsed": true
   },
   "outputs": [],
   "source": [
    "df_expanded['gender'].value_counts()"
   ]
  },
  {
   "cell_type": "code",
   "execution_count": null,
   "metadata": {
    "collapsed": true
   },
   "outputs": [],
   "source": [
    "# get baseline no. of female / no. of total rows\n",
    "\n",
    "np.mean(df_expanded['gender'])"
   ]
  },
  {
   "cell_type": "code",
   "execution_count": null,
   "metadata": {
    "collapsed": true
   },
   "outputs": [],
   "source": [
    "# need to pull out dependent variable (y)\n",
    "\n",
    "y = LabelEncoder().fit_transform(df_reduced['gender'].values)"
   ]
  },
  {
   "cell_type": "code",
   "execution_count": null,
   "metadata": {
    "collapsed": true
   },
   "outputs": [],
   "source": [
    "# need to pull out dependent variable (y)\n",
    "\n",
    "y = LabelEncoder().fit_transform(df_expanded['gender'].values)"
   ]
  },
  {
   "cell_type": "code",
   "execution_count": null,
   "metadata": {
    "collapsed": true
   },
   "outputs": [],
   "source": [
    "# set up train test split\n",
    "# do on reduced first then go back to expanded if time\n",
    "\n",
    "x_train, x_test, y_train, y_test = train_test_split(df_reduced, y)"
   ]
  },
  {
   "cell_type": "code",
   "execution_count": null,
   "metadata": {
    "collapsed": true
   },
   "outputs": [],
   "source": [
    "# check shape of train test split\n",
    "\n",
    "print x_train.shape\n",
    "print x_test.shape\n",
    "print y_train.shape\n",
    "print y_test.shape"
   ]
  },
  {
   "cell_type": "code",
   "execution_count": null,
   "metadata": {
    "collapsed": true
   },
   "outputs": [],
   "source": [
    "# need to run train test split through tfidf to fit data and then transform it and transform test data off of learned train data\n",
    "\n",
    "tfidf = TfidfVectorizer(stop_words='english',\n",
    "                       ngram_range=(1,3))\n",
    "tfidf.fit(x_train)\n",
    "transformed = tfidf.transform(x_train)\n",
    "truncatedsvd.fit(transformed)\n",
    "x_train_transformed = truncatedsvd.transform(transformed)\n",
    "\n",
    "x_test_transformed = tfidf.transform(x_test)\n",
    "x_test_transformed = truncatedsvd.transform(x_test_transformed)\n",
    "# random forest without params\n",
    "rf = RandomForestClassifier()\n",
    "rf.fit(x_train_transformed, y_train)\n",
    "\n",
    "predictions = rf.predict(x_test_transformed)\n",
    "rf.score(x_test_transformed, y_test)"
   ]
  },
  {
   "cell_type": "code",
   "execution_count": null,
   "metadata": {
    "collapsed": true
   },
   "outputs": [],
   "source": [
    "confusion = pd.DataFrame(confusion_matrix(y_test, predictions), columns=['predicted_f', 'predicted_m'], index=['is_f', 'is_m'])\n",
    "confusion"
   ]
  },
  {
   "cell_type": "code",
   "execution_count": null,
   "metadata": {
    "collapsed": true
   },
   "outputs": [],
   "source": [
    "print \"Classification Report:\\n\", classification_report(y_test, predictions)"
   ]
  },
  {
   "cell_type": "code",
   "execution_count": null,
   "metadata": {
    "collapsed": true
   },
   "outputs": [],
   "source": [
    "## plots ROC curve\n",
    "def plot_roc(x_test_transformed, y_test, model):\n",
    "    fpr, tpr, _ = roc_curve(y_test, model.predict_proba(x_test)[:,1])\n",
    "    roc_auc = auc(fpr, tpr)\n",
    "    print 'ROC AUC: %0.2f' % roc_auc\n",
    "    plt.figure()\n",
    "    plt.plot(fpr, tpr, label='ROC curve (area = %0.2f)' % roc_auc)\n",
    "    plt.plot([0, 1], [0, 1], 'k--')\n",
    "    plt.xlim([0.0, 1.0])\n",
    "    plt.ylim([0.0, 1.05])\n",
    "    plt.xlabel('False Positive Rate')\n",
    "    plt.ylabel('True Positive Rate')\n",
    "    plt.title('ROC Curve')\n",
    "    plt.legend(loc=\"lower right\")\n",
    "    plt.show()\n",
    "    \n",
    "plot_roc(x_test_transformed, y_test, rf)    "
   ]
  },
  {
   "cell_type": "code",
   "execution_count": null,
   "metadata": {
    "collapsed": true
   },
   "outputs": [],
   "source": [
    "# taking a look at predictions to visualize where to alter probability cutoff\n",
    "\n",
    "predict = rf.predict_proba(x_test_transformed)\n",
    "\n",
    "plt.hist(predict[:,1], bins=40);"
   ]
  },
  {
   "cell_type": "code",
   "execution_count": null,
   "metadata": {
    "collapsed": true
   },
   "outputs": [],
   "source": [
    "## plots the distribution of prediction probabilities for the 1 class\n",
    "def plot_proba(x_test, model):\n",
    "    predict = model.predict_proba(x_test)\n",
    "    plt.hist(predict[:,1])\n",
    "    plt.ylabel('Frequency')\n",
    "    plt.xlabel('Class 1 Probability Cutoff')\n",
    "    plt.show()\n",
    "    \n",
    "plot_proba(x_test_transformed, rf)"
   ]
  },
  {
   "cell_type": "code",
   "execution_count": null,
   "metadata": {
    "collapsed": true
   },
   "outputs": [],
   "source": [
    "## calculates new scores based on inputed probability, then plots new model scores based on the range of cutoffs\n",
    "\n",
    "def get_predictions(model, x_test, y_test, probability):\n",
    "    predict = model.predict_proba(x_test)\n",
    "    new_predictions = []\n",
    "    for i in predict:\n",
    "        if i[1] >= probability:\n",
    "            new_predictions.append(1)\n",
    "        else:\n",
    "            new_predictions.append(0)\n",
    "    return new_predictions\n",
    "    \n",
    "def find_optimal_probability(model, x_test, y_test):\n",
    "    probabilities = range(1,101)\n",
    "    new_probabilities = []\n",
    "    for i in probabilities:\n",
    "        new_probabilities.append(float(i)/100)\n",
    "    range_of_scores = []\n",
    "    for i in new_probabilities:\n",
    "        new_preds = get_predictions(model, x_test, y_test, i)\n",
    "        cmatrix = confusion_matrix(y_test, new_preds)\n",
    "        new_model_score = (cmatrix[0,0] + cmatrix[1,1])/float(np.sum(cmatrix))\n",
    "        range_of_scores.append(new_model_score)\n",
    "    plt.plot(new_probabilities, range_of_scores)\n",
    "    plt.xlabel(\"Probability Cutoff\")\n",
    "    plt.ylabel(\"Model Score\")\n",
    "    plt.show()"
   ]
  },
  {
   "cell_type": "code",
   "execution_count": null,
   "metadata": {
    "collapsed": true
   },
   "outputs": [],
   "source": [
    "# need to change probability\n",
    "\n",
    "get_predictions(rf, x_test_transformed, probability)"
   ]
  },
  {
   "cell_type": "code",
   "execution_count": null,
   "metadata": {
    "collapsed": true
   },
   "outputs": [],
   "source": []
  },
  {
   "cell_type": "code",
   "execution_count": null,
   "metadata": {
    "collapsed": true
   },
   "outputs": [],
   "source": []
  },
  {
   "cell_type": "code",
   "execution_count": null,
   "metadata": {
    "collapsed": true
   },
   "outputs": [],
   "source": []
  },
  {
   "cell_type": "code",
   "execution_count": null,
   "metadata": {
    "collapsed": true
   },
   "outputs": [],
   "source": []
  },
  {
   "cell_type": "code",
   "execution_count": null,
   "metadata": {
    "collapsed": true
   },
   "outputs": [],
   "source": []
  },
  {
   "cell_type": "code",
   "execution_count": null,
   "metadata": {
    "collapsed": true
   },
   "outputs": [],
   "source": []
  },
  {
   "cell_type": "code",
   "execution_count": null,
   "metadata": {
    "collapsed": true
   },
   "outputs": [],
   "source": []
  }
 ],
 "metadata": {
  "kernelspec": {
   "display_name": "Python [Root]",
   "language": "python",
   "name": "Python [Root]"
  },
  "language_info": {
   "codemirror_mode": {
    "name": "ipython",
    "version": 2
   },
   "file_extension": ".py",
   "mimetype": "text/x-python",
   "name": "python",
   "nbconvert_exporter": "python",
   "pygments_lexer": "ipython2",
   "version": "2.7.12"
  }
 },
 "nbformat": 4,
 "nbformat_minor": 0
}

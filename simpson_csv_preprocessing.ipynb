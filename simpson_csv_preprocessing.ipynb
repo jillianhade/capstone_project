{
 "cells": [
  {
   "cell_type": "code",
   "execution_count": 1,
   "metadata": {
    "collapsed": false
   },
   "outputs": [
    {
     "data": {
      "text/plain": [
       "u'/Users/Driz/capstone'"
      ]
     },
     "execution_count": 1,
     "metadata": {},
     "output_type": "execute_result"
    }
   ],
   "source": [
    "import pandas as pd\n",
    "import os\n",
    "%pwd"
   ]
  },
  {
   "cell_type": "code",
   "execution_count": 46,
   "metadata": {
    "collapsed": true
   },
   "outputs": [],
   "source": [
    "# import all the things!\n",
    "\n",
    "import pandas as pd\n",
    "import numpy as np\n",
    "import matplotlib.pyplot as plt\n",
    "%matplotlib inline\n",
    "from sklearn.preprocessing import LabelEncoder\n",
    "from sklearn.cross_validation import cross_val_score, StratifiedKFold\n",
    "from sklearn.tree import DecisionTreeClassifier, DecisionTreeRegressor\n",
    "from sklearn.ensemble import RandomForestClassifier, RandomForestRegressor, ExtraTreesRegressor, ExtraTreesClassifier, BaggingRegressor,BaggingClassifier\n",
    "from sklearn.metrics import classification_report, confusion_matrix\n",
    "from sklearn.ensemble import AdaBoostClassifier, AdaBoostRegressor, GradientBoostingRegressor ,GradientBoostingClassifier\n",
    "from sklearn.externals.six import StringIO\n",
    "from sklearn.tree import export_graphviz\n",
    "import pydot\n",
    "from IPython.display import Image\n",
    "from sklearn.cross_validation import train_test_split\n",
    "from sklearn.grid_search import GridSearchCV"
   ]
  },
  {
   "cell_type": "code",
   "execution_count": 2,
   "metadata": {
    "collapsed": false
   },
   "outputs": [
    {
     "name": "stderr",
     "output_type": "stream",
     "text": [
      "/Users/Driz/anaconda2/lib/python2.7/site-packages/IPython/core/interactiveshell.py:2723: DtypeWarning: Columns (4,5,6,13) have mixed types. Specify dtype option on import or set low_memory=False.\n",
      "  interactivity=interactivity, compiler=compiler, result=result)\n"
     ]
    }
   ],
   "source": [
    "df = pd.read_csv('gender_included_df.csv', encoding='utf-8')"
   ]
  },
  {
   "cell_type": "code",
   "execution_count": 3,
   "metadata": {
    "collapsed": false,
    "scrolled": true
   },
   "outputs": [
    {
     "data": {
      "text/html": [
       "<div>\n",
       "<table border=\"1\" class=\"dataframe\">\n",
       "  <thead>\n",
       "    <tr style=\"text-align: right;\">\n",
       "      <th></th>\n",
       "      <th>id</th>\n",
       "      <th>episode_id</th>\n",
       "      <th>number</th>\n",
       "      <th>raw_text</th>\n",
       "      <th>timestamp_in_ms</th>\n",
       "      <th>speaking_line</th>\n",
       "      <th>character_id</th>\n",
       "      <th>location_id</th>\n",
       "      <th>raw_character_text</th>\n",
       "      <th>raw_location_text</th>\n",
       "      <th>spoken_words</th>\n",
       "      <th>normalized_text</th>\n",
       "      <th>word_count</th>\n",
       "      <th>gender</th>\n",
       "    </tr>\n",
       "  </thead>\n",
       "  <tbody>\n",
       "    <tr>\n",
       "      <th>0</th>\n",
       "      <td>9549</td>\n",
       "      <td>32</td>\n",
       "      <td>209</td>\n",
       "      <td>Miss Hoover: No, actually, it was a little of ...</td>\n",
       "      <td>848000</td>\n",
       "      <td>True</td>\n",
       "      <td>464</td>\n",
       "      <td>3.0</td>\n",
       "      <td>Miss Hoover</td>\n",
       "      <td>Springfield Elementary School</td>\n",
       "      <td>No, actually, it was a little of both. Sometim...</td>\n",
       "      <td>no actually it was a little of both sometimes ...</td>\n",
       "      <td>31.0</td>\n",
       "      <td>f</td>\n",
       "    </tr>\n",
       "    <tr>\n",
       "      <th>1</th>\n",
       "      <td>9550</td>\n",
       "      <td>32</td>\n",
       "      <td>210</td>\n",
       "      <td>Lisa Simpson: (NEAR TEARS) Where's Mr. Bergstrom?</td>\n",
       "      <td>856000</td>\n",
       "      <td>True</td>\n",
       "      <td>9</td>\n",
       "      <td>3.0</td>\n",
       "      <td>Lisa Simpson</td>\n",
       "      <td>Springfield Elementary School</td>\n",
       "      <td>Where's Mr. Bergstrom?</td>\n",
       "      <td>wheres mr bergstrom</td>\n",
       "      <td>3.0</td>\n",
       "      <td>f</td>\n",
       "    </tr>\n",
       "    <tr>\n",
       "      <th>2</th>\n",
       "      <td>9551</td>\n",
       "      <td>32</td>\n",
       "      <td>211</td>\n",
       "      <td>Miss Hoover: I don't know. Although I'd sure l...</td>\n",
       "      <td>856000</td>\n",
       "      <td>True</td>\n",
       "      <td>464</td>\n",
       "      <td>3.0</td>\n",
       "      <td>Miss Hoover</td>\n",
       "      <td>Springfield Elementary School</td>\n",
       "      <td>I don't know. Although I'd sure like to talk t...</td>\n",
       "      <td>i dont know although id sure like to talk to h...</td>\n",
       "      <td>22.0</td>\n",
       "      <td>f</td>\n",
       "    </tr>\n",
       "    <tr>\n",
       "      <th>3</th>\n",
       "      <td>9552</td>\n",
       "      <td>32</td>\n",
       "      <td>212</td>\n",
       "      <td>Lisa Simpson: That life is worth living.</td>\n",
       "      <td>864000</td>\n",
       "      <td>True</td>\n",
       "      <td>9</td>\n",
       "      <td>3.0</td>\n",
       "      <td>Lisa Simpson</td>\n",
       "      <td>Springfield Elementary School</td>\n",
       "      <td>That life is worth living.</td>\n",
       "      <td>that life is worth living</td>\n",
       "      <td>5.0</td>\n",
       "      <td>f</td>\n",
       "    </tr>\n",
       "    <tr>\n",
       "      <th>4</th>\n",
       "      <td>9553</td>\n",
       "      <td>32</td>\n",
       "      <td>213</td>\n",
       "      <td>Edna Krabappel-Flanders: The polls will be ope...</td>\n",
       "      <td>864000</td>\n",
       "      <td>True</td>\n",
       "      <td>40</td>\n",
       "      <td>3.0</td>\n",
       "      <td>Edna Krabappel-Flanders</td>\n",
       "      <td>Springfield Elementary School</td>\n",
       "      <td>The polls will be open from now until the end ...</td>\n",
       "      <td>the polls will be open from now until the end ...</td>\n",
       "      <td>33.0</td>\n",
       "      <td>f</td>\n",
       "    </tr>\n",
       "  </tbody>\n",
       "</table>\n",
       "</div>"
      ],
      "text/plain": [
       "     id  episode_id  number  \\\n",
       "0  9549          32     209   \n",
       "1  9550          32     210   \n",
       "2  9551          32     211   \n",
       "3  9552          32     212   \n",
       "4  9553          32     213   \n",
       "\n",
       "                                            raw_text timestamp_in_ms  \\\n",
       "0  Miss Hoover: No, actually, it was a little of ...          848000   \n",
       "1  Lisa Simpson: (NEAR TEARS) Where's Mr. Bergstrom?          856000   \n",
       "2  Miss Hoover: I don't know. Although I'd sure l...          856000   \n",
       "3           Lisa Simpson: That life is worth living.          864000   \n",
       "4  Edna Krabappel-Flanders: The polls will be ope...          864000   \n",
       "\n",
       "  speaking_line character_id  location_id       raw_character_text  \\\n",
       "0          True          464          3.0              Miss Hoover   \n",
       "1          True            9          3.0             Lisa Simpson   \n",
       "2          True          464          3.0              Miss Hoover   \n",
       "3          True            9          3.0             Lisa Simpson   \n",
       "4          True           40          3.0  Edna Krabappel-Flanders   \n",
       "\n",
       "               raw_location_text  \\\n",
       "0  Springfield Elementary School   \n",
       "1  Springfield Elementary School   \n",
       "2  Springfield Elementary School   \n",
       "3  Springfield Elementary School   \n",
       "4  Springfield Elementary School   \n",
       "\n",
       "                                        spoken_words  \\\n",
       "0  No, actually, it was a little of both. Sometim...   \n",
       "1                             Where's Mr. Bergstrom?   \n",
       "2  I don't know. Although I'd sure like to talk t...   \n",
       "3                         That life is worth living.   \n",
       "4  The polls will be open from now until the end ...   \n",
       "\n",
       "                                     normalized_text  word_count gender  \n",
       "0  no actually it was a little of both sometimes ...        31.0      f  \n",
       "1                                wheres mr bergstrom         3.0      f  \n",
       "2  i dont know although id sure like to talk to h...        22.0      f  \n",
       "3                          that life is worth living         5.0      f  \n",
       "4  the polls will be open from now until the end ...        33.0      f  "
      ]
     },
     "execution_count": 3,
     "metadata": {},
     "output_type": "execute_result"
    }
   ],
   "source": [
    "df.head()"
   ]
  },
  {
   "cell_type": "code",
   "execution_count": 4,
   "metadata": {
    "collapsed": false
   },
   "outputs": [
    {
     "data": {
      "text/html": [
       "<div>\n",
       "<table border=\"1\" class=\"dataframe\">\n",
       "  <thead>\n",
       "    <tr style=\"text-align: right;\">\n",
       "      <th></th>\n",
       "      <th>normalized_text</th>\n",
       "      <th>gender</th>\n",
       "    </tr>\n",
       "  </thead>\n",
       "  <tbody>\n",
       "    <tr>\n",
       "      <th>0</th>\n",
       "      <td>no actually it was a little of both sometimes ...</td>\n",
       "      <td>f</td>\n",
       "    </tr>\n",
       "    <tr>\n",
       "      <th>1</th>\n",
       "      <td>wheres mr bergstrom</td>\n",
       "      <td>f</td>\n",
       "    </tr>\n",
       "    <tr>\n",
       "      <th>2</th>\n",
       "      <td>i dont know although id sure like to talk to h...</td>\n",
       "      <td>f</td>\n",
       "    </tr>\n",
       "    <tr>\n",
       "      <th>3</th>\n",
       "      <td>that life is worth living</td>\n",
       "      <td>f</td>\n",
       "    </tr>\n",
       "    <tr>\n",
       "      <th>4</th>\n",
       "      <td>the polls will be open from now until the end ...</td>\n",
       "      <td>f</td>\n",
       "    </tr>\n",
       "  </tbody>\n",
       "</table>\n",
       "</div>"
      ],
      "text/plain": [
       "                                     normalized_text gender\n",
       "0  no actually it was a little of both sometimes ...      f\n",
       "1                                wheres mr bergstrom      f\n",
       "2  i dont know although id sure like to talk to h...      f\n",
       "3                          that life is worth living      f\n",
       "4  the polls will be open from now until the end ...      f"
      ]
     },
     "execution_count": 4,
     "metadata": {},
     "output_type": "execute_result"
    }
   ],
   "source": [
    "# create new df reducing to column for further preprocessing and my y-column\n",
    "\n",
    "df_reduced = df[['normalized_text','gender']]\n",
    "                \n",
    "df_reduced.head()"
   ]
  },
  {
   "cell_type": "code",
   "execution_count": 5,
   "metadata": {
    "collapsed": false
   },
   "outputs": [
    {
     "name": "stderr",
     "output_type": "stream",
     "text": [
      "/Users/Driz/anaconda2/lib/python2.7/site-packages/ipykernel/__main__.py:1: SettingWithCopyWarning: \n",
      "A value is trying to be set on a copy of a slice from a DataFrame\n",
      "\n",
      "See the caveats in the documentation: http://pandas.pydata.org/pandas-docs/stable/indexing.html#indexing-view-versus-copy\n",
      "  if __name__ == '__main__':\n"
     ]
    }
   ],
   "source": [
    "df_reduced.dropna(inplace=True)"
   ]
  },
  {
   "cell_type": "code",
   "execution_count": null,
   "metadata": {
    "collapsed": false,
    "scrolled": true
   },
   "outputs": [],
   "source": [
    "# need to remove stop words\n",
    "# import nltk\n",
    "# from nltk.corpus import stopwords\n",
    "\n",
    "# stop_words = nltk.corpus.stopwords.words('english')\n",
    "# # stop_words = stopwords.words('english')\n",
    "# filtered_sentence = [w for w in df_reduced['normalized_text'].values if not w in stop_words]\n",
    "# #print filtered_sentence "
   ]
  },
  {
   "cell_type": "code",
   "execution_count": null,
   "metadata": {
    "collapsed": false
   },
   "outputs": [],
   "source": [
    "# stop_words"
   ]
  },
  {
   "cell_type": "code",
   "execution_count": 18,
   "metadata": {
    "collapsed": false
   },
   "outputs": [
    {
     "data": {
      "text/plain": [
       "m    68650\n",
       "f    24042\n",
       "Name: gender, dtype: int64"
      ]
     },
     "execution_count": 18,
     "metadata": {},
     "output_type": "execute_result"
    }
   ],
   "source": [
    "df_reduced['gender'].value_counts()"
   ]
  },
  {
   "cell_type": "code",
   "execution_count": 6,
   "metadata": {
    "collapsed": false
   },
   "outputs": [],
   "source": [
    "from sklearn.feature_extraction.text import TfidfVectorizer\n",
    "\n",
    "\n",
    "tfidf = TfidfVectorizer(stop_words='english',\n",
    "                       ngram_range=(1,3))\n",
    "tfidf_matrix = tfidf.fit_transform(df_reduced['normalized_text'].values)\n"
   ]
  },
  {
   "cell_type": "code",
   "execution_count": 12,
   "metadata": {
    "collapsed": false
   },
   "outputs": [
    {
     "data": {
      "text/plain": [
       "(92692, 700)"
      ]
     },
     "execution_count": 12,
     "metadata": {},
     "output_type": "execute_result"
    }
   ],
   "source": [
    "# due to failure of GridSearchCV decided to run tsvd for dimensionality reduction\n",
    "# n_components=1000 was too much for my computer so I tried 100\n",
    "\n",
    "from sklearn.decomposition import TruncatedSVD\n",
    "tsvd = TruncatedSVD(n_components=700)\n",
    "\n",
    "new_cols = tsvd.fit_transform(tfidf_matrix)\n",
    "new_cols.shape"
   ]
  },
  {
   "cell_type": "code",
   "execution_count": 13,
   "metadata": {
    "collapsed": false
   },
   "outputs": [
    {
     "data": {
      "text/plain": [
       "[<matplotlib.lines.Line2D at 0x125fde310>]"
      ]
     },
     "execution_count": 13,
     "metadata": {},
     "output_type": "execute_result"
    },
    {
     "data": {
      "image/png": "[encoded data removed]",
      "text/plain": [
       "<matplotlib.figure.Figure at 0x125e516d0>"
      ]
     },
     "metadata": {},
     "output_type": "display_data"
    }
   ],
   "source": [
    "import matplotlib.pyplot as plt\n",
    "import numpy as np\n",
    "%matplotlib inline\n",
    "\n",
    "plt.plot(np.cumsum(tsvd.explained_variance_ratio_))"
   ]
  },
  {
   "cell_type": "code",
   "execution_count": null,
   "metadata": {
    "collapsed": true
   },
   "outputs": [],
   "source": []
  },
  {
   "cell_type": "code",
   "execution_count": 20,
   "metadata": {
    "collapsed": true
   },
   "outputs": [],
   "source": [
    "from sklearn.preprocessing import LabelEncoder\n",
    "\n",
    "y = LabelEncoder().fit_transform(df_reduced['gender'].values)"
   ]
  },
  {
   "cell_type": "code",
   "execution_count": 8,
   "metadata": {
    "collapsed": false
   },
   "outputs": [
    {
     "data": {
      "text/plain": [
       "0.74062486514478054"
      ]
     },
     "execution_count": 8,
     "metadata": {},
     "output_type": "execute_result"
    }
   ],
   "source": [
    "import numpy as np\n",
    "np.mean(y)"
   ]
  },
  {
   "cell_type": "code",
   "execution_count": 37,
   "metadata": {
    "collapsed": false
   },
   "outputs": [],
   "source": [
    "from sklearn.cross_validation import train_test_split\n",
    "\n",
    "# x_train, x_test, y_train, y_test = train_test_split(tfidf_matrix, y)\n",
    "\n",
    "x_train, x_test, y_train, y_test = train_test_split(new_cols, y)"
   ]
  },
  {
   "cell_type": "code",
   "execution_count": null,
   "metadata": {
    "collapsed": true
   },
   "outputs": [],
   "source": [
    "# do label encoder before fed to train test"
   ]
  },
  {
   "cell_type": "code",
   "execution_count": 38,
   "metadata": {
    "collapsed": false
   },
   "outputs": [
    {
     "data": {
      "text/plain": [
       "(92692, 700)"
      ]
     },
     "execution_count": 38,
     "metadata": {},
     "output_type": "execute_result"
    }
   ],
   "source": [
    "# these shapes pertain the filtered_sentence. there is discrepancy in the shape causing it to not work\n",
    "# changed to df_reduced\n",
    "\n",
    "# df_reduced.shape\n",
    "\n",
    "new_cols.shape"
   ]
  },
  {
   "cell_type": "code",
   "execution_count": 39,
   "metadata": {
    "collapsed": false
   },
   "outputs": [
    {
     "data": {
      "text/plain": [
       "(92692,)"
      ]
     },
     "execution_count": 39,
     "metadata": {},
     "output_type": "execute_result"
    }
   ],
   "source": [
    "# tfidf_matrix.shape\n",
    "\n",
    "y.shape"
   ]
  },
  {
   "cell_type": "code",
   "execution_count": null,
   "metadata": {
    "collapsed": false
   },
   "outputs": [],
   "source": [
    "# len(filtered_sentence)"
   ]
  },
  {
   "cell_type": "code",
   "execution_count": 36,
   "metadata": {
    "collapsed": false
   },
   "outputs": [
    {
     "data": {
      "text/plain": [
       "0.74062486514478054"
      ]
     },
     "execution_count": 36,
     "metadata": {},
     "output_type": "execute_result"
    }
   ],
   "source": [
    "# created baseline\n",
    "\n",
    "y.mean()"
   ]
  },
  {
   "cell_type": "code",
   "execution_count": null,
   "metadata": {
    "collapsed": false
   },
   "outputs": [],
   "source": []
  },
  {
   "cell_type": "code",
   "execution_count": 40,
   "metadata": {
    "collapsed": false
   },
   "outputs": [
    {
     "data": {
      "text/plain": [
       "0.75018340309843357"
      ]
     },
     "execution_count": 40,
     "metadata": {},
     "output_type": "execute_result"
    }
   ],
   "source": [
    "from sklearn.ensemble import RandomForestClassifier\n",
    "# max_features=0.75, max_leaf_nodes=10, max_depth=20, score=0.750000\n",
    "# these params came from my stalled GridSearchCV below\n",
    "\n",
    "# rf = RandomForestClassifier(max_features=0.75, max_leaf_nodes=10,\n",
    "#                             max_depth=20, n_jobs=-1)\n",
    "# rf.fit(x_train, y_train)\n",
    "# predictions = rf.predict(x_test)\n",
    "# rf.score(x_test, y_test)\n",
    "\n",
    "rf = RandomForestClassifier(max_features=0.75, max_leaf_nodes=10,\n",
    "                            max_depth=20, n_jobs=-1)\n",
    "rf.fit(x_train, y_train)\n",
    "predictions = rf.predict(x_test)\n",
    "rf.score(x_test, y_test)"
   ]
  },
  {
   "cell_type": "code",
   "execution_count": 81,
   "metadata": {
    "collapsed": false
   },
   "outputs": [
    {
     "name": "stdout",
     "output_type": "stream",
     "text": [
      "Classification Report:\n",
      "             precision    recall  f1-score   support\n",
      "\n",
      "          0       0.62      0.07      0.13      5958\n",
      "          1       0.75      0.98      0.85     17215\n",
      "\n",
      "avg / total       0.72      0.75      0.67     23173\n",
      "\n"
     ]
    }
   ],
   "source": [
    "print \"Classification Report:\\n\", classification_report(y_test, predictions)"
   ]
  },
  {
   "cell_type": "code",
   "execution_count": 41,
   "metadata": {
    "collapsed": false
   },
   "outputs": [
    {
     "data": {
      "text/plain": [
       "(23173,)"
      ]
     },
     "execution_count": 41,
     "metadata": {},
     "output_type": "execute_result"
    }
   ],
   "source": [
    "# rf.score(predictions, y_test)\n",
    "predictions.shape"
   ]
  },
  {
   "cell_type": "code",
   "execution_count": 42,
   "metadata": {
    "collapsed": false
   },
   "outputs": [
    {
     "data": {
      "text/plain": [
       "(23173,)"
      ]
     },
     "execution_count": 42,
     "metadata": {},
     "output_type": "execute_result"
    }
   ],
   "source": [
    "y_test.shape"
   ]
  },
  {
   "cell_type": "code",
   "execution_count": 43,
   "metadata": {
    "collapsed": false
   },
   "outputs": [
    {
     "data": {
      "text/plain": [
       "array([1, 1, 1, ..., 1, 1, 1])"
      ]
     },
     "execution_count": 43,
     "metadata": {},
     "output_type": "execute_result"
    }
   ],
   "source": [
    "predictions"
   ]
  },
  {
   "cell_type": "code",
   "execution_count": 18,
   "metadata": {
    "collapsed": false
   },
   "outputs": [
    {
     "data": {
      "text/html": [
       "<div>\n",
       "<table border=\"1\" class=\"dataframe\">\n",
       "  <thead>\n",
       "    <tr style=\"text-align: right;\">\n",
       "      <th></th>\n",
       "      <th>predicted_f</th>\n",
       "      <th>predicted_m</th>\n",
       "    </tr>\n",
       "  </thead>\n",
       "  <tbody>\n",
       "    <tr>\n",
       "      <th>is_f</th>\n",
       "      <td>520</td>\n",
       "      <td>5530</td>\n",
       "    </tr>\n",
       "    <tr>\n",
       "      <th>is_m</th>\n",
       "      <td>352</td>\n",
       "      <td>16771</td>\n",
       "    </tr>\n",
       "  </tbody>\n",
       "</table>\n",
       "</div>"
      ],
      "text/plain": [
       "      predicted_f  predicted_m\n",
       "is_f          520         5530\n",
       "is_m          352        16771"
      ]
     },
     "execution_count": 18,
     "metadata": {},
     "output_type": "execute_result"
    }
   ],
   "source": [
    "from sklearn.metrics import confusion_matrix\n",
    "#import matplotlib.pyplot as plt --to make the fancy style confusion matrix\n",
    "\n",
    "# confusion = pd.DataFrame(confusion_matrix(y_test, predictions), columns=['predicted_f', 'predicted_m'], index=['is_f', 'is_m'])\n",
    "# confusion"
   ]
  },
  {
   "cell_type": "code",
   "execution_count": 44,
   "metadata": {
    "collapsed": false
   },
   "outputs": [
    {
     "data": {
      "text/html": [
       "<div>\n",
       "<table border=\"1\" class=\"dataframe\">\n",
       "  <thead>\n",
       "    <tr style=\"text-align: right;\">\n",
       "      <th></th>\n",
       "      <th>predicted_f</th>\n",
       "      <th>predicted_m</th>\n",
       "    </tr>\n",
       "  </thead>\n",
       "  <tbody>\n",
       "    <tr>\n",
       "      <th>is_f</th>\n",
       "      <td>440</td>\n",
       "      <td>5518</td>\n",
       "    </tr>\n",
       "    <tr>\n",
       "      <th>is_m</th>\n",
       "      <td>271</td>\n",
       "      <td>16944</td>\n",
       "    </tr>\n",
       "  </tbody>\n",
       "</table>\n",
       "</div>"
      ],
      "text/plain": [
       "      predicted_f  predicted_m\n",
       "is_f          440         5518\n",
       "is_m          271        16944"
      ]
     },
     "execution_count": 44,
     "metadata": {},
     "output_type": "execute_result"
    }
   ],
   "source": [
    "from sklearn.metrics import confusion_matrix\n",
    "\n",
    "confusion = pd.DataFrame(confusion_matrix(y_test, predictions), columns=['predicted_f', 'predicted_m'], index=['is_f', 'is_m'])\n",
    "confusion"
   ]
  },
  {
   "cell_type": "code",
   "execution_count": 76,
   "metadata": {
    "collapsed": true
   },
   "outputs": [],
   "source": [
    "def tune_predictions(model, x_test, y_test, probability):\n",
    "    predict = model.predict_proba(x_test)\n",
    "    new_predictions = []\n",
    "    for i in predict:\n",
    "        if i[1] >= probability:\n",
    "            new_predictions.append(1)\n",
    "        else:\n",
    "            new_predictions.append(0)\n",
    "    print \"Confusion Matrix:\\n\", confusion_matrix(y_test, new_predictions), \"\\n\"\n",
    "    print \"Classification Report:\\n\", classification_report(y_test, new_predictions)"
   ]
  },
  {
   "cell_type": "code",
   "execution_count": 80,
   "metadata": {
    "collapsed": false
   },
   "outputs": [
    {
     "name": "stdout",
     "output_type": "stream",
     "text": [
      "Confusion Matrix:\n",
      "[[ 2478  3480]\n",
      " [ 4208 13007]] \n",
      "\n",
      "Classification Report:\n",
      "             precision    recall  f1-score   support\n",
      "\n",
      "          0       0.37      0.42      0.39      5958\n",
      "          1       0.79      0.76      0.77     17215\n",
      "\n",
      "avg / total       0.68      0.67      0.67     23173\n",
      "\n"
     ]
    }
   ],
   "source": [
    "tune_predictions(rf, x_test,y_test, .75)\n",
    "#stuff right over total of all observations --would be new model score\n",
    "#minimizing one source of error to maximize some other "
   ]
  },
  {
   "cell_type": "markdown",
   "metadata": {},
   "source": [
    "where to go from here could keep going with random forest, or try naive bayes"
   ]
  },
  {
   "cell_type": "code",
   "execution_count": 75,
   "metadata": {
    "collapsed": false
   },
   "outputs": [
    {
     "data": {
      "text/html": [
       "<div>\n",
       "<table border=\"1\" class=\"dataframe\">\n",
       "  <thead>\n",
       "    <tr style=\"text-align: right;\">\n",
       "      <th></th>\n",
       "      <th>predicted_f</th>\n",
       "      <th>predicted_m</th>\n",
       "    </tr>\n",
       "  </thead>\n",
       "  <tbody>\n",
       "    <tr>\n",
       "      <th>is_f</th>\n",
       "      <td>2478</td>\n",
       "      <td>3480</td>\n",
       "    </tr>\n",
       "    <tr>\n",
       "      <th>is_m</th>\n",
       "      <td>4208</td>\n",
       "      <td>13007</td>\n",
       "    </tr>\n",
       "  </tbody>\n",
       "</table>\n",
       "</div>"
      ],
      "text/plain": [
       "      predicted_f  predicted_m\n",
       "is_f         2478         3480\n",
       "is_m         4208        13007"
      ]
     },
     "execution_count": 75,
     "metadata": {},
     "output_type": "execute_result"
    }
   ],
   "source": [
    "# throw tuned_predictions into confusion matrix\n",
    "\n",
    "confusion = pd.DataFrame(confusion_matrix(y_test, tuned_predictions), columns=['predicted_f', 'predicted_m'], index=['is_f', 'is_m'])\n",
    "confusion"
   ]
  },
  {
   "cell_type": "markdown",
   "metadata": {},
   "source": [
    "Looks like my model overly predicts male characters..."
   ]
  },
  {
   "cell_type": "code",
   "execution_count": 50,
   "metadata": {
    "collapsed": false
   },
   "outputs": [],
   "source": [
    "# try an ROC curve\n",
    "\n",
    "from sklearn.metrics import roc_curve, auc"
   ]
  },
  {
   "cell_type": "code",
   "execution_count": 51,
   "metadata": {
    "collapsed": true
   },
   "outputs": [],
   "source": [
    "## plots ROC curve\n",
    "def plot_roc(x_test, y_test, model):\n",
    "    fpr, tpr, _ = roc_curve(y_test, model.predict_proba(x_test)[:,1])\n",
    "    roc_auc = auc(fpr, tpr)\n",
    "    print 'ROC AUC: %0.2f' % roc_auc\n",
    "    plt.figure()\n",
    "    plt.plot(fpr, tpr, label='ROC curve (area = %0.2f)' % roc_auc)\n",
    "    plt.plot([0, 1], [0, 1], 'k--')\n",
    "    plt.xlim([0.0, 1.0])\n",
    "    plt.ylim([0.0, 1.05])\n",
    "    plt.xlabel('False Positive Rate')\n",
    "    plt.ylabel('True Positive Rate')\n",
    "    plt.title('ROC Curve')\n",
    "    plt.legend(loc=\"lower right\")\n",
    "    plt.show()"
   ]
  },
  {
   "cell_type": "code",
   "execution_count": 52,
   "metadata": {
    "collapsed": false
   },
   "outputs": [
    {
     "name": "stdout",
     "output_type": "stream",
     "text": [
      "ROC AUC: 0.62\n"
     ]
    },
    {
     "data": {
      "image/png": "[encoded data removed]",
      "text/plain": [
       "<matplotlib.figure.Figure at 0x125fdefd0>"
      ]
     },
     "metadata": {},
     "output_type": "display_data"
    }
   ],
   "source": [
    "plot_roc(x_test, y_test, rf)"
   ]
  },
  {
   "cell_type": "markdown",
   "metadata": {},
   "source": [
    "Need to run GridSearch over Random Forest model to determine hyperparams"
   ]
  },
  {
   "cell_type": "code",
   "execution_count": 64,
   "metadata": {
    "collapsed": false
   },
   "outputs": [],
   "source": [
    "predict = rf.predict_proba(x_test)"
   ]
  },
  {
   "cell_type": "code",
   "execution_count": 70,
   "metadata": {
    "collapsed": false
   },
   "outputs": [
    {
     "data": {
      "image/png": "[encoded data removed]",
      "text/plain": [
       "<matplotlib.figure.Figure at 0x123c0e390>"
      ]
     },
     "metadata": {},
     "output_type": "display_data"
    }
   ],
   "source": [
    "plt.hist(predict[:,1], bins=40);"
   ]
  },
  {
   "cell_type": "code",
   "execution_count": 68,
   "metadata": {
    "collapsed": false
   },
   "outputs": [
    {
     "data": {
      "image/png": "[encoded data removed]",
      "text/plain": [
       "<matplotlib.figure.Figure at 0x1269fe6d0>"
      ]
     },
     "metadata": {},
     "output_type": "display_data"
    }
   ],
   "source": [
    "plt.hist(predict);"
   ]
  },
  {
   "cell_type": "code",
   "execution_count": 57,
   "metadata": {
    "collapsed": true
   },
   "outputs": [],
   "source": [
    "# try grid search to seek out some better params\n",
    "# get rid of depths 150 & 200\n",
    "\n",
    "params = {'max_depth' : [5, 20],\n",
    "          'max_features' : [0.25, 0.75],\n",
    "          'max_leaf_nodes' : [2,4,6]}"
   ]
  },
  {
   "cell_type": "code",
   "execution_count": 58,
   "metadata": {
    "collapsed": false
   },
   "outputs": [
    {
     "name": "stdout",
     "output_type": "stream",
     "text": [
      "Fitting 3 folds for each of 12 candidates, totalling 36 fits\n",
      "[CV] max_features=0.25, max_leaf_nodes=2, max_depth=5 ................\n",
      "[CV]  max_features=0.25, max_leaf_nodes=2, max_depth=5, score=0.739870 -  14.5s\n",
      "[CV] max_features=0.25, max_leaf_nodes=2, max_depth=5 ................\n"
     ]
    },
    {
     "name": "stderr",
     "output_type": "stream",
     "text": [
      "[Parallel(n_jobs=1)]: Done   1 tasks       | elapsed:   14.6s\n"
     ]
    },
    {
     "name": "stdout",
     "output_type": "stream",
     "text": [
      "[CV]  max_features=0.25, max_leaf_nodes=2, max_depth=5, score=0.739870 -  14.4s\n",
      "[CV] max_features=0.25, max_leaf_nodes=2, max_depth=5 ................\n",
      "[CV]  max_features=0.25, max_leaf_nodes=2, max_depth=5, score=0.739870 -  14.8s\n",
      "[CV] max_features=0.25, max_leaf_nodes=4, max_depth=5 ................\n",
      "[CV]  max_features=0.25, max_leaf_nodes=4, max_depth=5, score=0.744660 -  26.4s\n",
      "[CV] max_features=0.25, max_leaf_nodes=4, max_depth=5 ................\n"
     ]
    },
    {
     "name": "stderr",
     "output_type": "stream",
     "text": [
      "[Parallel(n_jobs=1)]: Done   4 tasks       | elapsed:  1.2min\n"
     ]
    },
    {
     "name": "stdout",
     "output_type": "stream",
     "text": [
      "[CV]  max_features=0.25, max_leaf_nodes=4, max_depth=5, score=0.744228 -  26.2s\n",
      "[CV] max_features=0.25, max_leaf_nodes=4, max_depth=5 ................\n",
      "[CV]  max_features=0.25, max_leaf_nodes=4, max_depth=5, score=0.744056 -  23.2s\n",
      "[CV] max_features=0.25, max_leaf_nodes=6, max_depth=5 ................\n",
      "[CV]  max_features=0.25, max_leaf_nodes=6, max_depth=5, score=0.745393 -  33.2s\n",
      "[CV] max_features=0.25, max_leaf_nodes=6, max_depth=5 ................\n"
     ]
    },
    {
     "name": "stderr",
     "output_type": "stream",
     "text": [
      "[Parallel(n_jobs=1)]: Done   7 tasks       | elapsed:  2.6min\n"
     ]
    },
    {
     "name": "stdout",
     "output_type": "stream",
     "text": [
      "[CV]  max_features=0.25, max_leaf_nodes=6, max_depth=5, score=0.744746 -  36.2s\n",
      "[CV] max_features=0.25, max_leaf_nodes=6, max_depth=5 ................\n",
      "[CV]  max_features=0.25, max_leaf_nodes=6, max_depth=5, score=0.744746 -  35.0s\n",
      "[CV] max_features=0.75, max_leaf_nodes=2, max_depth=5 ................\n",
      "[CV]  max_features=0.75, max_leaf_nodes=2, max_depth=5, score=0.739179 -  43.6s\n",
      "[CV] max_features=0.75, max_leaf_nodes=2, max_depth=5 ................\n",
      "[CV]  max_features=0.75, max_leaf_nodes=2, max_depth=5, score=0.739870 -  43.7s\n",
      "[CV] max_features=0.75, max_leaf_nodes=2, max_depth=5 ................\n",
      "[CV]  max_features=0.75, max_leaf_nodes=2, max_depth=5, score=0.739956 -  43.6s\n",
      "[CV] max_features=0.75, max_leaf_nodes=4, max_depth=5 ................\n"
     ]
    },
    {
     "name": "stderr",
     "output_type": "stream",
     "text": [
      "[Parallel(n_jobs=1)]: Done  12 tasks       | elapsed:  5.9min\n"
     ]
    },
    {
     "name": "stdout",
     "output_type": "stream",
     "text": [
      "[CV]  max_features=0.75, max_leaf_nodes=4, max_depth=5, score=0.743624 - 1.4min\n",
      "[CV] max_features=0.75, max_leaf_nodes=4, max_depth=5 ................\n",
      "[CV]  max_features=0.75, max_leaf_nodes=4, max_depth=5, score=0.744746 - 1.4min\n",
      "[CV] max_features=0.75, max_leaf_nodes=4, max_depth=5 ................\n",
      "[CV]  max_features=0.75, max_leaf_nodes=4, max_depth=5, score=0.745221 - 1.3min\n",
      "[CV] max_features=0.75, max_leaf_nodes=6, max_depth=5 ................\n",
      "[CV]  max_features=0.75, max_leaf_nodes=6, max_depth=5, score=0.744573 - 2.0min\n",
      "[CV] max_features=0.75, max_leaf_nodes=6, max_depth=5 ................\n",
      "[CV]  max_features=0.75, max_leaf_nodes=6, max_depth=5, score=0.747853 - 2.0min\n",
      "[CV] max_features=0.75, max_leaf_nodes=6, max_depth=5 ................\n"
     ]
    },
    {
     "name": "stderr",
     "output_type": "stream",
     "text": [
      "[Parallel(n_jobs=1)]: Done  17 tasks       | elapsed: 14.0min\n"
     ]
    },
    {
     "name": "stdout",
     "output_type": "stream",
     "text": [
      "[CV]  max_features=0.75, max_leaf_nodes=6, max_depth=5, score=0.744056 - 2.1min\n",
      "[CV] max_features=0.25, max_leaf_nodes=2, max_depth=20 ...............\n",
      "[CV]  max_features=0.25, max_leaf_nodes=2, max_depth=20, score=0.739870 -  14.8s\n",
      "[CV] max_features=0.25, max_leaf_nodes=2, max_depth=20 ...............\n",
      "[CV]  max_features=0.25, max_leaf_nodes=2, max_depth=20, score=0.739870 -  15.0s\n",
      "[CV] max_features=0.25, max_leaf_nodes=2, max_depth=20 ...............\n",
      "[CV]  max_features=0.25, max_leaf_nodes=2, max_depth=20, score=0.739870 -  14.6s\n",
      "[CV] max_features=0.25, max_leaf_nodes=4, max_depth=20 ...............\n",
      "[CV]  max_features=0.25, max_leaf_nodes=4, max_depth=20, score=0.741251 -  25.8s\n",
      "[CV] max_features=0.25, max_leaf_nodes=4, max_depth=20 ...............\n",
      "[CV]  max_features=0.25, max_leaf_nodes=4, max_depth=20, score=0.744703 -  26.7s\n",
      "[CV] max_features=0.25, max_leaf_nodes=4, max_depth=20 ...............\n",
      "[CV]  max_features=0.25, max_leaf_nodes=4, max_depth=20, score=0.744056 -  27.3s\n",
      "[CV] max_features=0.25, max_leaf_nodes=6, max_depth=20 ...............\n"
     ]
    },
    {
     "name": "stderr",
     "output_type": "stream",
     "text": [
      "[Parallel(n_jobs=1)]: Done  24 tasks       | elapsed: 18.2min\n"
     ]
    },
    {
     "name": "stdout",
     "output_type": "stream",
     "text": [
      "[CV]  max_features=0.25, max_leaf_nodes=6, max_depth=20, score=0.745652 -  35.5s\n",
      "[CV] max_features=0.25, max_leaf_nodes=6, max_depth=20 ...............\n",
      "[CV]  max_features=0.25, max_leaf_nodes=6, max_depth=20, score=0.744703 -  37.5s\n",
      "[CV] max_features=0.25, max_leaf_nodes=6, max_depth=20 ...............\n",
      "[CV]  max_features=0.25, max_leaf_nodes=6, max_depth=20, score=0.745091 -  31.8s\n",
      "[CV] max_features=0.75, max_leaf_nodes=2, max_depth=20 ...............\n",
      "[CV]  max_features=0.75, max_leaf_nodes=2, max_depth=20, score=0.739956 -  43.0s\n",
      "[CV] max_features=0.75, max_leaf_nodes=2, max_depth=20 ...............\n",
      "[CV]  max_features=0.75, max_leaf_nodes=2, max_depth=20, score=0.739913 -  43.2s\n",
      "[CV] max_features=0.75, max_leaf_nodes=2, max_depth=20 ...............\n",
      "[CV]  max_features=0.75, max_leaf_nodes=2, max_depth=20, score=0.744056 -  43.1s\n",
      "[CV] max_features=0.75, max_leaf_nodes=4, max_depth=20 ...............\n",
      "[CV]  max_features=0.75, max_leaf_nodes=4, max_depth=20, score=0.743883 - 1.4min\n",
      "[CV] max_features=0.75, max_leaf_nodes=4, max_depth=20 ...............\n"
     ]
    },
    {
     "name": "stderr",
     "output_type": "stream",
     "text": [
      "[Parallel(n_jobs=1)]: Done  31 tasks       | elapsed: 23.5min\n"
     ]
    },
    {
     "name": "stdout",
     "output_type": "stream",
     "text": [
      "[CV]  max_features=0.75, max_leaf_nodes=4, max_depth=20, score=0.744703 - 1.4min\n",
      "[CV] max_features=0.75, max_leaf_nodes=4, max_depth=20 ...............\n",
      "[CV]  max_features=0.75, max_leaf_nodes=4, max_depth=20, score=0.744056 - 1.4min\n",
      "[CV] max_features=0.75, max_leaf_nodes=6, max_depth=20 ...............\n",
      "[CV]  max_features=0.75, max_leaf_nodes=6, max_depth=20, score=0.743495 - 2.0min\n",
      "[CV] max_features=0.75, max_leaf_nodes=6, max_depth=20 ...............\n",
      "[CV]  max_features=0.75, max_leaf_nodes=6, max_depth=20, score=0.744746 - 2.1min\n",
      "[CV] max_features=0.75, max_leaf_nodes=6, max_depth=20 ...............\n",
      "[CV]  max_features=0.75, max_leaf_nodes=6, max_depth=20, score=0.745350 - 2.0min\n"
     ]
    },
    {
     "name": "stderr",
     "output_type": "stream",
     "text": [
      "[Parallel(n_jobs=1)]: Done  36 out of  36 | elapsed: 32.3min finished\n"
     ]
    },
    {
     "data": {
      "text/plain": [
       "GridSearchCV(cv=None, error_score='raise',\n",
       "       estimator=RandomForestClassifier(bootstrap=True, class_weight=None, criterion='gini',\n",
       "            max_depth=None, max_features='auto', max_leaf_nodes=None,\n",
       "            min_samples_leaf=1, min_samples_split=2,\n",
       "            min_weight_fraction_leaf=0.0, n_estimators=10, n_jobs=1,\n",
       "            oob_score=False, random_state=None, verbose=0,\n",
       "            warm_start=False),\n",
       "       fit_params={}, iid=True, n_jobs=1,\n",
       "       param_grid={'max_features': [0.25, 0.75], 'max_leaf_nodes': [2, 4, 6], 'max_depth': [5, 20]},\n",
       "       pre_dispatch='2*n_jobs', refit=True, scoring=None, verbose=10)"
      ]
     },
     "execution_count": 58,
     "metadata": {},
     "output_type": "execute_result"
    }
   ],
   "source": [
    "# try GridSearchCV on Random Forest\n",
    "\n",
    "grid_search_random_forest = GridSearchCV(estimator=RandomForestClassifier(),\n",
    "                                        param_grid=params, verbose=10)\n",
    "\n",
    "rf_function = RandomForestClassifier()\n",
    "\n",
    "grid_search_random_forest.fit(x_train, y_train)"
   ]
  },
  {
   "cell_type": "code",
   "execution_count": null,
   "metadata": {
    "collapsed": false
   },
   "outputs": [],
   "source": [
    "# grid_search_model = GridSearchCV(estimator=DecisionTreeRegressor(),\n",
    "#                                  param_grid = params)\n",
    "\n",
    "# decision_function = DecisionTreeRegressor()\n",
    "\n",
    "# grid_search_model.fit(x_train, y_train)"
   ]
  },
  {
   "cell_type": "code",
   "execution_count": 59,
   "metadata": {
    "collapsed": false
   },
   "outputs": [
    {
     "data": {
      "text/plain": [
       "RandomForestClassifier(bootstrap=True, class_weight=None, criterion='gini',\n",
       "            max_depth=5, max_features=0.75, max_leaf_nodes=6,\n",
       "            min_samples_leaf=1, min_samples_split=2,\n",
       "            min_weight_fraction_leaf=0.0, n_estimators=10, n_jobs=1,\n",
       "            oob_score=False, random_state=None, verbose=0,\n",
       "            warm_start=False)"
      ]
     },
     "execution_count": 59,
     "metadata": {},
     "output_type": "execute_result"
    }
   ],
   "source": [
    "# which params were optimal?\n",
    "# looks like the best model went to a depth of 50 (not too many), used 9 features, had 2 leaf nodes(male or female),\n",
    "# and used best split over random split\n",
    "\n",
    "# grid_search_model.best_estimator_\n",
    "grid_search_random_forest.best_estimator_"
   ]
  },
  {
   "cell_type": "code",
   "execution_count": 60,
   "metadata": {
    "collapsed": false
   },
   "outputs": [
    {
     "data": {
      "text/plain": [
       "0.74549403760123134"
      ]
     },
     "execution_count": 60,
     "metadata": {},
     "output_type": "execute_result"
    }
   ],
   "source": [
    "# ouch, thats atrocious! what a piece of junk model\n",
    "# might abandon decision tree and move back to random forest\n",
    "\n",
    "# grid_search_model.best_score_\n",
    "grid_search_random_forest.best_score_"
   ]
  },
  {
   "cell_type": "code",
   "execution_count": null,
   "metadata": {
    "collapsed": false
   },
   "outputs": [],
   "source": [
    "# shows how model got to its crappy predictions\n",
    "# what would I sub for feature_names ????\n",
    "\n",
    "# dot_data = StringIO()  \n",
    "# export_graphviz(grid_search_model.best_estimator_, out_file=dot_data,  \n",
    "#                 feature_names=feature_names,  \n",
    "#                 filled=True, rounded=True,  \n",
    "#                 special_characters=True)  \n",
    "# graph = pydot.graph_from_dot_data(dot_data.getvalue())  \n",
    "# Image(graph.create_png()) "
   ]
  },
  {
   "cell_type": "code",
   "execution_count": null,
   "metadata": {
    "collapsed": false
   },
   "outputs": [],
   "source": [
    "grid_search_model.best_estimator_"
   ]
  },
  {
   "cell_type": "code",
   "execution_count": null,
   "metadata": {
    "collapsed": true
   },
   "outputs": [],
   "source": [
    "grid_search_model.fit"
   ]
  },
  {
   "cell_type": "code",
   "execution_count": null,
   "metadata": {
    "collapsed": false
   },
   "outputs": [],
   "source": [
    "grid_search_model.best_score_"
   ]
  },
  {
   "cell_type": "code",
   "execution_count": null,
   "metadata": {
    "collapsed": true
   },
   "outputs": [],
   "source": [
    "rf = RandomForestClassifier(n_jobs=-1)\n",
    "et = ExtraTreesClassifier(n_jobs=-1)"
   ]
  },
  {
   "cell_type": "code",
   "execution_count": null,
   "metadata": {
    "collapsed": true
   },
   "outputs": [],
   "source": [
    "# want to build a global dict to store all my models for future use\n",
    "global_models = {\n",
    "            'rf': RandomForestClassifier(n_jobs=-1),\n",
    "            'et': ExtraTreesClassifier(n_jobs=-1)\n",
    "}    "
   ]
  },
  {
   "cell_type": "code",
   "execution_count": null,
   "metadata": {
    "collapsed": true
   },
   "outputs": [],
   "source": [
    "# comment out predictions line with test set\n",
    "\n",
    "results = {}\n",
    "\n",
    "def evaluate_model(x_train, y_train,\n",
    "                  model):\n",
    "    pick_a_model = global_models[model]\n",
    "    pick_a_model.fit(x_train, y_train)\n",
    "    print 'train model score:', pick_a_model.score(x_train, y_train)\n",
    "#     predictions = pick_a_model.predict(x_test)\n",
    "#     print '\\nconfusion matrix: \\n\\n', confusion_matrix(y_test, predictions)\n",
    "#     print '\\nclassification report: \\n\\n', classification_report(y_test, predictions)\n",
    "#     results.update({model: pick_a_model.score(X_test, y_test)})"
   ]
  },
  {
   "cell_type": "code",
   "execution_count": null,
   "metadata": {
    "collapsed": true
   },
   "outputs": [],
   "source": [
    "# looks like random forest is overfit, while extra trees could be a possible model!\n",
    "\n",
    "for key in global_models:\n",
    "    evaluate_model(x_train, y_train, key)"
   ]
  },
  {
   "cell_type": "code",
   "execution_count": null,
   "metadata": {
    "collapsed": true
   },
   "outputs": [],
   "source": [
    "# going to run et model on test data now to see how well it predicts \n",
    "\n",
    "results_final = {}\n",
    "\n",
    "def evaluate_model_final(X_train, X_test, \n",
    "                         y_train, y_test,\n",
    "                         model):\n",
    "    pick_a_model = global_models[model]\n",
    "    pick_a_model.fit(x_train, y_train)\n",
    "    print 'test model score:', pick_a_model.score(x_test, y_test)\n",
    "    predictions = pick_a_model.predict(x_test)\n",
    "    print '\\nconfusion matrix: \\n\\n', confusion_matrix(y_test, predictions)\n",
    "    print '\\nclassification report: \\n\\n', classification_report(y_test, predictions)\n",
    "    results.update({model: pick_a_model.score(x_test, y_test)})"
   ]
  },
  {
   "cell_type": "code",
   "execution_count": null,
   "metadata": {
    "collapsed": true
   },
   "outputs": [],
   "source": [
    "# actually a test model set\n",
    "for key in global_models:\n",
    "    evaluate_model(x_test, y_test, key)"
   ]
  },
  {
   "cell_type": "code",
   "execution_count": null,
   "metadata": {
    "collapsed": true
   },
   "outputs": [],
   "source": [
    "# get baseline for model comparison\n",
    "\n",
    "take # of lines spoken by female character divide # of total rows"
   ]
  },
  {
   "cell_type": "code",
   "execution_count": null,
   "metadata": {
    "collapsed": true
   },
   "outputs": [],
   "source": []
  }
 ],
 "metadata": {
  "anaconda-cloud": {},
  "kernelspec": {
   "display_name": "Python [Root]",
   "language": "python",
   "name": "Python [Root]"
  },
  "language_info": {
   "codemirror_mode": {
    "name": "ipython",
    "version": 2
   },
   "file_extension": ".py",
   "mimetype": "text/x-python",
   "name": "python",
   "nbconvert_exporter": "python",
   "pygments_lexer": "ipython2",
   "version": "2.7.12"
  }
 },
 "nbformat": 4,
 "nbformat_minor": 0
}

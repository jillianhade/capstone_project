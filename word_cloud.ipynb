{
 "cells": [
  {
   "cell_type": "code",
   "execution_count": null,
   "metadata": {
    "collapsed": false
   },
   "outputs": [],
   "source": [
    "%matplotlib inline\n",
    "\n",
    "import numpy as np\n",
    "import pandas as pd\n",
    "import matplotlib.pyplot as plt\n",
    "from wordcloud import WordCloud, STOPWORDS"
   ]
  },
  {
   "cell_type": "code",
   "execution_count": null,
   "metadata": {
    "collapsed": false
   },
   "outputs": [],
   "source": [
    "# this is installed--need to fix\n",
    "\n",
    "from .wordcloud import WordCloud, STOPWORDS, random_color_func, get_single_color_func\n",
    "from .color_from_image import ImageColorGenerator\n",
    "\n",
    "__all__ = ['WordCloud', 'STOPWORDS', 'random_color_func', 'get_single_color_func', 'ImageColorGenerator']\n"
   ]
  },
  {
   "cell_type": "code",
   "execution_count": null,
   "metadata": {
    "collapsed": true
   },
   "outputs": [],
   "source": [
    "# which characters do I want to make clouds for\n",
    "# populate with top female characters\n",
    "\n",
    "cloud_char = {\"Marge\": 1, \"Lisa\": 9, \"Edna Krabappel-Flanders\": 40,\n",
    "                     \"Selma\": 22, \"Patty\": 10, \n",
    "                    }"
   ]
  },
  {
   "cell_type": "code",
   "execution_count": null,
   "metadata": {
    "collapsed": true
   },
   "outputs": [],
   "source": [
    "# import csv from previous notebook where I saved new df \n",
    "\n",
    "df_script = pd.read_csv(\"datasets/gender_script.csv\",\n",
    "                    error_bad_lines=False,\n",
    "                    warn_bad_lines=False,\n",
    "                    low_memory=False)"
   ]
  },
  {
   "cell_type": "code",
   "execution_count": null,
   "metadata": {
    "collapsed": true
   },
   "outputs": [],
   "source": [
    "# also look into masked word cloud \n",
    "# need to use illustrator to make masks for characters in cloud_char\n",
    "\n",
    "def draw_wc(character, data, add_stopwds):\n",
    "     # Get lines from the cloud_char:\n",
    "    chosen_char_id = cloud_char_index[character]\n",
    "    df_charac = df_script[df_script[\"character_id\"]==str(chosen_char_id)]\n",
    "    char_lines = list(df_script[\"normalized_text\"].values.astype(str))\n",
    "    # Transform into one big string:\n",
    "    charac_lines_one_str = ' '.join(char_lines)\n",
    "    # Build the stopwords set:\n",
    "    stopwords = set(STOPWORDS)\n",
    "    for w in add_stopwds:\n",
    "        stopwords.add(w)\n",
    "    # Instanciate the Wordcloud object:\n",
    "    wc = WordCloud(background_color=\"black\",\n",
    "                   max_words=200,\n",
    "                   stopwords=stopwords,\n",
    "                   relative_scaling=0.5,\n",
    "                   width=500,\n",
    "                   height=350)\n",
    "    # Generate the wordcloud using the big string:\n",
    "    wc.generate(char_lines_one_str)\n",
    "    return wc"
   ]
  },
  {
   "cell_type": "code",
   "execution_count": null,
   "metadata": {
    "collapsed": true
   },
   "outputs": [],
   "source": []
  },
  {
   "cell_type": "code",
   "execution_count": null,
   "metadata": {
    "collapsed": true
   },
   "outputs": [],
   "source": []
  },
  {
   "cell_type": "code",
   "execution_count": null,
   "metadata": {
    "collapsed": true
   },
   "outputs": [],
   "source": []
  },
  {
   "cell_type": "code",
   "execution_count": null,
   "metadata": {
    "collapsed": true
   },
   "outputs": [],
   "source": []
  },
  {
   "cell_type": "code",
   "execution_count": null,
   "metadata": {
    "collapsed": true
   },
   "outputs": [],
   "source": []
  },
  {
   "cell_type": "code",
   "execution_count": null,
   "metadata": {
    "collapsed": true
   },
   "outputs": [],
   "source": []
  },
  {
   "cell_type": "code",
   "execution_count": null,
   "metadata": {
    "collapsed": true
   },
   "outputs": [],
   "source": []
  },
  {
   "cell_type": "code",
   "execution_count": null,
   "metadata": {
    "collapsed": true
   },
   "outputs": [],
   "source": []
  },
  {
   "cell_type": "code",
   "execution_count": null,
   "metadata": {
    "collapsed": true
   },
   "outputs": [],
   "source": []
  },
  {
   "cell_type": "code",
   "execution_count": null,
   "metadata": {
    "collapsed": true
   },
   "outputs": [],
   "source": []
  }
 ],
 "metadata": {
  "kernelspec": {
   "display_name": "Python [Root]",
   "language": "python",
   "name": "Python [Root]"
  },
  "language_info": {
   "codemirror_mode": {
    "name": "ipython",
    "version": 2
   },
   "file_extension": ".py",
   "mimetype": "text/x-python",
   "name": "python",
   "nbconvert_exporter": "python",
   "pygments_lexer": "ipython2",
   "version": "2.7.12"
  }
 },
 "nbformat": 4,
 "nbformat_minor": 0
}
